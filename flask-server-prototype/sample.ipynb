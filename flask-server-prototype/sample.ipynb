{
 "cells": [
  {
   "cell_type": "code",
   "execution_count": null,
   "metadata": {},
   "outputs": [],
   "source": [
    "import pandas as pd\n",
    "data = pd.read_json(\"../doc2vec/data/all-notebooks-tokenized.json\", orient='index')\n",
    "data = data[data.cell_type == \"code\"]\n",
    "# import numpy as np\n",
    "embeds2d = np.load(\"../doc2vec/data/notebooks-doc2vec-vectors-apr24.npy\",allow_pickle=True)\n",
    "embeds1d = []\n",
    "for row in embeds2d:\n",
    "    for vecs in row:\n",
    "        embeds1d.append(vecs)"
   ]
  }
 ],
 "metadata": {
  "kernelspec": {
   "display_name": "Python 3",
   "language": "python",
   "name": "python3"
  },
  "language_info": {
   "codemirror_mode": {
    "name": "ipython",
    "version": 3
   },
   "file_extension": ".py",
   "mimetype": "text/x-python",
   "name": "python",
   "nbconvert_exporter": "python",
   "pygments_lexer": "ipython3",
   "version": "3.8.5"
  }
 },
 "nbformat": 4,
 "nbformat_minor": 4
}
