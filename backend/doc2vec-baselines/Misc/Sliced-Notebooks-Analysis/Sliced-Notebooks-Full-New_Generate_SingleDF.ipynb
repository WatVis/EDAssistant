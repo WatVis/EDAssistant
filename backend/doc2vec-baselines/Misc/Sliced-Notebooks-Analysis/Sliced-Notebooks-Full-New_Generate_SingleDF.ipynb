{
 "cells": [
  {
   "cell_type": "code",
   "execution_count": 2,
   "id": "canadian-policy",
   "metadata": {
    "tags": []
   },
   "outputs": [],
   "source": [
    "import pandas as pd\n",
    "import matplotlib.pyplot as plt\n",
    "import glob\n",
    "import os"
   ]
  },
  {
   "cell_type": "markdown",
   "id": "distributed-tanzania",
   "metadata": {},
   "source": [
    "# Read the raw python files"
   ]
  },
  {
   "cell_type": "code",
   "execution_count": 4,
   "id": "incoming-screening",
   "metadata": {},
   "outputs": [],
   "source": [
    "# Start from an empty dataframe\n",
    "df = pd.DataFrame()\n",
    "\n",
    "# Retrieves a list of filepaths of all ipynb files (pre-converted into json by simply renaming their file extensions from .ipynb to .json)\n",
    "all_file_paths = glob.glob('../data/sliced-notebooks-full-new/**/*.py',recursive=True)\n",
    "\n",
    "for file_path in all_file_paths[0:10]:\n",
    "    # Open the file\n",
    "    with open(file_path, 'r') as file:\n",
    "        data = file.read()\n",
    "#         print(data)\n",
    "    \n",
    "    \n",
    "        temp = pd.DataFrame({\"source\": data,\n",
    "                             \"filename\":  os.path.splitext(os.path.basename(file_path))[0], # the filename is the filename\n",
    "                             \"competition\":os.path.basename(os.path.dirname(file_path)) # the competition name is the directory name\n",
    "                            },\n",
    "                           index=[0])\n",
    "        temp['name'] = temp['filename'].str.split(\"_\").str[0].astype(int)\n",
    "        temp['cell'] = temp['filename'].str.split(\"_\").str[1].astype(int)\n",
    "\n",
    "         \n",
    "\n",
    "        df = df.append(temp)"
   ]
  },
  {
   "cell_type": "code",
   "execution_count": 5,
   "id": "corrected-monaco",
   "metadata": {},
   "outputs": [
    {
     "name": "stdout",
     "output_type": "stream",
     "text": [
      "                                              source     filename  \\\n",
      "0  import numpy as np \\nimport pandas as pd\\nimpo...  1805310_100   \n",
      "0  from subprocess import check_output\\nprint(che...    2005202_0   \n",
      "0  import numpy as np # linear algebra\\nimport pa...   1772437_44   \n",
      "0  import pandas as pd # data processing, CSV fil...    1632422_1   \n",
      "0  import pandas as pd\\ndir_1st_result = \"../inpu...   1998847_19   \n",
      "0  from datetime import date, timedelta\\nt2017 = ...   45370411_2   \n",
      "0  import numpy as np # linear algebra\\nimport pa...    2042217_5   \n",
      "0  import numpy as np \\nimport pandas as pd\\nimpo...   1805310_66   \n",
      "0  import pandas as pd\\ndf_items     = pd.read_cs...    1704082_7   \n",
      "0  import pandas as pd\\nitems = pd.read_csv('../i...    2252920_3   \n",
      "\n",
      "                          competition      name  cell  \n",
      "0  favorita-grocery-sales-forecasting   1805310   100  \n",
      "0  favorita-grocery-sales-forecasting   2005202     0  \n",
      "0  favorita-grocery-sales-forecasting   1772437    44  \n",
      "0  favorita-grocery-sales-forecasting   1632422     1  \n",
      "0  favorita-grocery-sales-forecasting   1998847    19  \n",
      "0  favorita-grocery-sales-forecasting  45370411     2  \n",
      "0  favorita-grocery-sales-forecasting   2042217     5  \n",
      "0  favorita-grocery-sales-forecasting   1805310    66  \n",
      "0  favorita-grocery-sales-forecasting   1704082     7  \n",
      "0  favorita-grocery-sales-forecasting   2252920     3  \n"
     ]
    }
   ],
   "source": [
    "print(df)"
   ]
  },
  {
   "cell_type": "code",
   "execution_count": 14,
   "id": "fourth-throw",
   "metadata": {},
   "outputs": [],
   "source": [
    "df.reset_index(drop=True,inplace=True)\n",
    "df.sort_values(by=[\"name\", \"competition\", \"cell\"], ascending=True,inplace=True)\n",
    "df.to_csv(\"data/all-notebooks-sliced.csv\")"
   ]
  },
  {
   "cell_type": "markdown",
   "id": "annoying-debate",
   "metadata": {},
   "source": [
    "# Read the usage CSVs"
   ]
  },
  {
   "cell_type": "code",
   "execution_count": 8,
   "id": "frequent-organ",
   "metadata": {},
   "outputs": [
    {
     "name": "stdout",
     "output_type": "stream",
     "text": [
      "   CELL                                              USAGE    filename  \\\n",
      "0     2      __builtins__, print, subprocess, check_output   1766093_0   \n",
      "0    11                                   pandas, read_csv  1805310_19   \n",
      "1    20              pandas, read_csv, __builtins__, print  1805310_19   \n",
      "0    27                                       pandas, info  3621215_32   \n",
      "1    28                                       pandas, head  3621215_32   \n",
      "2    60  matplotlib.pyplot, figure, matplotlib.pyplot, ...  3621215_32   \n",
      "3    95      __builtins__, plot_store_transactions_cluster  3621215_32   \n",
      "4   101                 pandas, groupby, __builtins__, zip  3621215_32   \n",
      "5   126  __builtins__, len, __builtins__, range, matplo...  3621215_32   \n",
      "0     3                                   pandas, read_csv   1747966_4   \n",
      "1     4                            matplotlib.pyplot, hist   1747966_4   \n",
      "0     4                     pandas, read_csv, pandas, copy   2287641_4   \n",
      "1    11  pandas, read_csv, pandas, copy, pandas, merge,...   2287641_4   \n",
      "0     2                                   pandas, read_csv   1806927_5   \n",
      "1     3                                pandas, to_datetime   1806927_5   \n",
      "2    15                                __builtins__, print   1806927_5   \n",
      "0     2                                   pandas, read_csv   1747966_3   \n",
      "1     3                                       pandas, head   1747966_3   \n",
      "0     2                                   pandas, read_csv  1994624_34   \n",
      "1     4                                __builtins__, print  1994624_34   \n",
      "0     8              pandas, read_csv, __builtins__, range   1772192_0   \n",
      "1    17                                    pandas, reindex   1772192_0   \n",
      "2    18                                pandas, reset_index   1772192_0   \n",
      "3    19                                       pandas, head   1772192_0   \n",
      "0     7                                   pandas, read_csv  1998847_11   \n",
      "1     8                                   pandas, read_csv  1998847_11   \n",
      "2     9             __builtins__, str, __builtins__, range  1998847_11   \n",
      "3    11                                     pandas, concat  1998847_11   \n",
      "4    12                                   pandas, read_csv  1998847_11   \n",
      "5    14  __builtins__, print, sklearn.metrics, mean_squ...  1998847_11   \n",
      "\n",
      "                          competition     name  cell  \n",
      "0  favorita-grocery-sales-forecasting  1766093     0  \n",
      "0  favorita-grocery-sales-forecasting  1805310    19  \n",
      "1  favorita-grocery-sales-forecasting  1805310    19  \n",
      "0  favorita-grocery-sales-forecasting  3621215    32  \n",
      "1  favorita-grocery-sales-forecasting  3621215    32  \n",
      "2  favorita-grocery-sales-forecasting  3621215    32  \n",
      "3  favorita-grocery-sales-forecasting  3621215    32  \n",
      "4  favorita-grocery-sales-forecasting  3621215    32  \n",
      "5  favorita-grocery-sales-forecasting  3621215    32  \n",
      "0  favorita-grocery-sales-forecasting  1747966     4  \n",
      "1  favorita-grocery-sales-forecasting  1747966     4  \n",
      "0  favorita-grocery-sales-forecasting  2287641     4  \n",
      "1  favorita-grocery-sales-forecasting  2287641     4  \n",
      "0  favorita-grocery-sales-forecasting  1806927     5  \n",
      "1  favorita-grocery-sales-forecasting  1806927     5  \n",
      "2  favorita-grocery-sales-forecasting  1806927     5  \n",
      "0  favorita-grocery-sales-forecasting  1747966     3  \n",
      "1  favorita-grocery-sales-forecasting  1747966     3  \n",
      "0  favorita-grocery-sales-forecasting  1994624    34  \n",
      "1  favorita-grocery-sales-forecasting  1994624    34  \n",
      "0  favorita-grocery-sales-forecasting  1772192     0  \n",
      "1  favorita-grocery-sales-forecasting  1772192     0  \n",
      "2  favorita-grocery-sales-forecasting  1772192     0  \n",
      "3  favorita-grocery-sales-forecasting  1772192     0  \n",
      "0  favorita-grocery-sales-forecasting  1998847    11  \n",
      "1  favorita-grocery-sales-forecasting  1998847    11  \n",
      "2  favorita-grocery-sales-forecasting  1998847    11  \n",
      "3  favorita-grocery-sales-forecasting  1998847    11  \n",
      "4  favorita-grocery-sales-forecasting  1998847    11  \n",
      "5  favorita-grocery-sales-forecasting  1998847    11  \n"
     ]
    }
   ],
   "source": [
    "# Start from an empty dataframe\n",
    "df = pd.DataFrame()\n",
    "\n",
    "# Retrieves a list of filepaths of all ipynb files (pre-converted into json by simply renaming their file extensions from .ipynb to .json)\n",
    "all_file_paths = glob.glob('../data/sliced-notebooks-full-new/**/*.csv',recursive=True)\n",
    "\n",
    "# filter \"schema.csv\" in each directory\n",
    "all_file_paths = [x for x in all_file_paths if (\"schema\" not in x)]\n",
    "\n",
    "for file_path in all_file_paths[0:10]:\n",
    "    # Open the file\n",
    "    temp = pd.read_csv(file_path)\n",
    "    temp[\"filename\"] =  os.path.splitext(os.path.basename(file_path))[0]\n",
    "    temp[\"competition\"] = os.path.basename(os.path.dirname(file_path))\n",
    "    temp['name'] = temp['filename'].str.split(\"_\").str[0].astype(int)\n",
    "    temp['cell'] = temp['filename'].str.split(\"_\").str[1].astype(int)\n",
    "    \n",
    "\n",
    "    df = df.append(temp)\n",
    "print(df)"
   ]
  },
  {
   "cell_type": "code",
   "execution_count": null,
   "id": "ordered-equity",
   "metadata": {},
   "outputs": [],
   "source": []
  },
  {
   "cell_type": "code",
   "execution_count": 11,
   "id": "centered-survey",
   "metadata": {},
   "outputs": [],
   "source": [
    "df.reset_index(drop=True,inplace=True)\n",
    "df.sort_values(by=[\"name\", \"competition\", \"cell\"], ascending=True,inplace=True)\n",
    "df.to_csv(\"data/all-notebooks-sliced-usage.csv\")"
   ]
  },
  {
   "cell_type": "markdown",
   "id": "unexpected-scratch",
   "metadata": {},
   "source": [
    "# Properly format the usage column"
   ]
  },
  {
   "cell_type": "code",
   "execution_count": 14,
   "id": "painted-colors",
   "metadata": {},
   "outputs": [],
   "source": [
    "df_test = df\n",
    "def combinePairs(x):\n",
    "    l = x.replace(\" \", \"\").split(\",\")\n",
    "    return \",\".join([i+\".\"+j for i,j in zip(l[::2], l[1::2])])\n",
    "\n",
    "df_test[\"USAGE_CLEAN\"] = df_usage['USAGE'].apply(combinePairs)"
   ]
  },
  {
   "cell_type": "code",
   "execution_count": 17,
   "id": "determined-garbage",
   "metadata": {},
   "outputs": [
    {
     "data": {
      "text/plain": [
       "[('__builtins__.print', 293204),\n",
       " ('pandas.read_csv', 249429),\n",
       " ('__builtins__.len', 177986),\n",
       " ('__builtins__.range', 149204),\n",
       " ('__builtins__.list', 77600),\n",
       " ('numpy.array', 66301),\n",
       " ('pandas.concat', 65324),\n",
       " ('__builtins__.enumerate', 65161),\n",
       " ('pandas.head', 58768),\n",
       " ('__builtins__.str', 58017),\n",
       " ('matplotlib.pyplot.subplots', 55543),\n",
       " ('__builtins__.int', 47410),\n",
       " ('numpy.zeros', 47164),\n",
       " ('pandas.merge', 44773),\n",
       " ('pandas.drop', 43954),\n",
       " ('matplotlib.pyplot.show', 43732),\n",
       " ('sklearn.model_selection.train_test_split', 42527),\n",
       " ('pandas.groupby', 35892),\n",
       " ('matplotlib.pyplot.plot', 35000),\n",
       " ('matplotlib.pyplot.title', 32536),\n",
       " ('numpy.arange', 31841),\n",
       " ('pandas.to_datetime', 28151),\n",
       " ('matplotlib.pyplot.figure', 27968),\n",
       " ('__builtins__.zip', 24537),\n",
       " ('matplotlib.pyplot.subplot', 22531),\n",
       " ('__builtins__.dict', 21509),\n",
       " ('__builtins__.set', 21284),\n",
       " ('numpy.mean', 20874),\n",
       " ('sklearn.calibration.CalibratedClassifierCV', 20435),\n",
       " ('matplotlib.pyplot.xlabel', 19358),\n",
       " ('matplotlib.pyplot.ylabel', 18101),\n",
       " ('pandas.get_dummies', 17813),\n",
       " ('sklearn.metrics.classification.log_loss', 16379),\n",
       " ('sklearn.linear_model.SGDClassifier', 16152),\n",
       " ('__builtins__.sorted', 15872),\n",
       " ('numpy.log', 14543),\n",
       " ('__builtins__.min', 14485),\n",
       " ('numpy.where', 14301),\n",
       " ('__builtins__.max', 14225),\n",
       " ('matplotlib.pyplot.imshow', 14117),\n",
       " ('numpy.sqrt', 14018),\n",
       " ('__builtins__.super', 13801),\n",
       " ('sklearn.ensemble.RandomForestClassifier', 13644),\n",
       " ('sklearn.preprocessing.LabelEncoder', 13537),\n",
       " ('__builtins__.round', 13349),\n",
       " ('numpy.asarray', 13160),\n",
       " ('numpy.log1p', 13073),\n",
       " ('keras.layers.Dense', 12693),\n",
       " ('sklearn.metrics.mean_squared_error', 12319),\n",
       " ('numpy.argmin', 12016),\n",
       " ('numpy.sum', 11803),\n",
       " ('numpy.round', 11483),\n",
       " ('numpy.argmax', 11407),\n",
       " ('__builtins__.calibrate', 11333),\n",
       " ('__builtins__.open', 11293),\n",
       " ('tqdm.tqdm', 11100),\n",
       " ('sklearn.preprocessing.StandardScaler', 10967),\n",
       " ('numpy.concatenate', 10649),\n",
       " ('sklearn.metrics.confusion_matrix', 10621),\n",
       " ('__builtins__.float', 10610),\n",
       " ('collections.Counter', 10553),\n",
       " ('pandas.copy', 10421),\n",
       " ('sklearn.model_selection.KFold', 10284),\n",
       " ('sklearn.metrics.roc_auc_score', 10166),\n",
       " ('sklearn.metrics.accuracy_score', 10022),\n",
       " ('__builtins__.reduce_mem_usage', 9702),\n",
       " ('pandas.isnull', 9556),\n",
       " ('sklearn.linear_model.LogisticRegression', 9480),\n",
       " ('__builtins__.sum', 9215),\n",
       " ('sklearn.model_selection.StratifiedKFold', 9150),\n",
       " ('matplotlib.pyplot.xticks', 9020),\n",
       " ('sklearn.feature_extraction.text.CountVectorizer', 8997),\n",
       " ('keras.layers.Dropout', 8783),\n",
       " ('sklearn.feature_extraction.text.TfidfVectorizer', 8554),\n",
       " ('sklearn.model_selection.cross_val_score', 8526),\n",
       " ('numpy.diff', 8363),\n",
       " ('numpy.abs', 8302),\n",
       " ('sklearn.neighbors.KNeighborsClassifier', 8011),\n",
       " ('numpy.exp', 8010),\n",
       " ('numpy.unique', 7920),\n",
       " ('keras.models.Sequential', 7904),\n",
       " ('numpy.ones', 7899),\n",
       " ('keras.models.Model', 7654),\n",
       " ('scipy.optimize.curve_fit', 7528),\n",
       " ('__builtins__.prep_data', 7466),\n",
       " ('sklearn.model_selection.GridSearchCV', 7409),\n",
       " ('sklearn.decomposition.PCA', 7337),\n",
       " ('numpy.max', 7276),\n",
       " ('matplotlib.pyplot.grid', 7196),\n",
       " ('pandas.isna', 7196),\n",
       " ('numpy.iinfo', 7109),\n",
       " ('numpy.finfo', 7073),\n",
       " ('sklearn.metrics.classification_report', 7016),\n",
       " ('sklearn.metrics.log_loss', 6914),\n",
       " ('datetime.timedelta', 6790),\n",
       " ('matplotlib.pyplot.yscale', 6644),\n",
       " ('keras.layers.Input', 6557),\n",
       " ('numpy.stack', 6532),\n",
       " ('pandas.describe', 6388),\n",
       " ('matplotlib.pyplot.hist', 6354)]"
      ]
     },
     "execution_count": 17,
     "metadata": {},
     "output_type": "execute_result"
    }
   ],
   "source": [
    "from collections import Counter\n",
    "Counter(\",\".join(df_test[\"USAGE_CLEAN\"]).split(\",\")).most_common(100)"
   ]
  },
  {
   "cell_type": "code",
   "execution_count": 18,
   "id": "innocent-wealth",
   "metadata": {},
   "outputs": [],
   "source": [
    "df_test.to_csv(\"../data/all-notebooks-sliced-usage.csv\")"
   ]
  }
 ],
 "metadata": {
  "kernelspec": {
   "display_name": "Python 3",
   "language": "python",
   "name": "python3"
  },
  "language_info": {
   "codemirror_mode": {
    "name": "ipython",
    "version": 3
   },
   "file_extension": ".py",
   "mimetype": "text/x-python",
   "name": "python",
   "nbconvert_exporter": "python",
   "pygments_lexer": "ipython3",
   "version": "3.9.2"
  }
 },
 "nbformat": 4,
 "nbformat_minor": 5
}
