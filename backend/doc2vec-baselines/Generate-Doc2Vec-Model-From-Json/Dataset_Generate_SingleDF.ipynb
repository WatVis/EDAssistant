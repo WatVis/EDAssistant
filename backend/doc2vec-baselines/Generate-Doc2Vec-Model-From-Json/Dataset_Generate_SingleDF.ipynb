{
 "cells": [
  {
   "cell_type": "markdown",
   "metadata": {},
   "source": [
    "# Generate a single dataframe from all notebooks"
   ]
  },
  {
   "cell_type": "markdown",
   "metadata": {},
   "source": [
    "This script generates one dataframe (file) from all of the cleaned .json files in clean-notebooks-full-json. This is useful for finding aggregate statistics and conducting EDA on our dataset. "
   ]
  },
  {
   "cell_type": "code",
   "execution_count": null,
   "metadata": {
    "tags": []
   },
   "outputs": [],
   "source": [
    "import pandas as pd\n",
    "import matplotlib.pyplot as plt\n",
    "import glob\n",
    "import os"
   ]
  },
  {
   "cell_type": "code",
   "execution_count": null,
   "metadata": {},
   "outputs": [],
   "source": [
    "# Start from an empty dataframe\n",
    "df = pd.DataFrame()\n",
    "\n",
    "# Retrieves a list of filepaths of all ipynb files (pre-converted into json by simply renaming their file extensions from .ipynb to .json)\n",
    "all_file_paths = glob.glob('data/clean-notebooks-full-json/**/*.json',recursive=True)\n",
    "\n",
    "for file_path in all_file_paths:\n",
    "#    print( os.path.splitext(os.path.basename(file_path)))\n",
    "    temp = pd.read_json(file_path)\n",
    "#   Set each cell row with its filename and competition name\n",
    "    temp['filename'] = os.path.splitext(os.path.basename(file_path))[0] # the filename is the filename\n",
    "    temp['competition'] =  os.path.basename(os.path.dirname(file_path)) # the competition name is the directory name\n",
    "    \n",
    "    df = df.append(temp)"
   ]
  },
  {
   "cell_type": "code",
   "execution_count": null,
   "metadata": {},
   "outputs": [],
   "source": [
    "# Write the dataframe to file, as all-notebooks.json\n",
    "newDf = df\n",
    "newDf.reset_index(drop=True,inplace=True)\n",
    "newDf.to_json('data/all-notebooks.json',orient='index')"
   ]
  }
 ],
 "metadata": {
  "kernelspec": {
   "display_name": "Python 3",
   "language": "python",
   "name": "python3"
  },
  "language_info": {
   "codemirror_mode": {
    "name": "ipython",
    "version": 3
   },
   "file_extension": ".py",
   "mimetype": "text/x-python",
   "name": "python",
   "nbconvert_exporter": "python",
   "pygments_lexer": "ipython3",
   "version": "3.9.2"
  }
 },
 "nbformat": 4,
 "nbformat_minor": 4
}
