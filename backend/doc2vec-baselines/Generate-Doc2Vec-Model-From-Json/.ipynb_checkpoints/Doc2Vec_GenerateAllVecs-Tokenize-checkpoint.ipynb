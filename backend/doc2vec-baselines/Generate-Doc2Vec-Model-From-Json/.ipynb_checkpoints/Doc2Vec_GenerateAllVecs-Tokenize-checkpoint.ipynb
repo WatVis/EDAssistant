{
 "cells": [
  {
   "cell_type": "markdown",
   "id": "opposed-connection",
   "metadata": {},
   "source": [
    "# Convert the Dataset into Vectors"
   ]
  },
  {
   "cell_type": "markdown",
   "id": "unauthorized-brazilian",
   "metadata": {},
   "source": [
    "The goal of this notebook is to generate a vector for each cell for all notebooks in the sliced-notebooks dataset."
   ]
  },
  {
   "cell_type": "markdown",
   "id": "qualified-spotlight",
   "metadata": {},
   "source": [
    "Dimensions of vector array: n * sequence count * 300"
   ]
  },
  {
   "cell_type": "markdown",
   "id": "municipal-matthew",
   "metadata": {},
   "source": [
    "# Import modules"
   ]
  },
  {
   "cell_type": "code",
   "execution_count": 1,
   "id": "handed-listing",
   "metadata": {},
   "outputs": [],
   "source": [
    "import pandas as pd\n",
    "import numpy as np\n",
    "import os\n",
    "import gensim\n",
    "from gensim.models.doc2vec import TaggedDocument\n",
    "from gensim.models.doc2vec import Doc2Vec\n",
    "import torch"
   ]
  },
  {
   "cell_type": "markdown",
   "id": "sophisticated-invention",
   "metadata": {},
   "source": [
    "# Import dataset and doc2vec model"
   ]
  },
  {
   "cell_type": "code",
   "execution_count": 2,
   "id": "impossible-latin",
   "metadata": {},
   "outputs": [],
   "source": [
    "df = pd.read_json(\"../data/all-notebooks.json\", orient='index')\n",
    "model = Doc2Vec.load(\"../model/notebook-doc2vec-model-apr5.model\")"
   ]
  },
  {
   "cell_type": "code",
   "execution_count": 4,
   "id": "casual-public",
   "metadata": {},
   "outputs": [],
   "source": [
    "df = df[df.cell_type == \"code\"]\n",
    "df['cell_num'] = df.groupby(['competition','filename']).cumcount()+1"
   ]
  },
  {
   "cell_type": "code",
   "execution_count": 5,
   "id": "spare-corner",
   "metadata": {},
   "outputs": [
    {
     "data": {
      "text/plain": [
       "856941"
      ]
     },
     "execution_count": 5,
     "metadata": {},
     "output_type": "execute_result"
    }
   ],
   "source": [
    "len(df)"
   ]
  },
  {
   "cell_type": "markdown",
   "id": "realistic-harvest",
   "metadata": {},
   "source": [
    "# Group the dataset by notebook and generate doc2vec vectors"
   ]
  },
  {
   "cell_type": "code",
   "execution_count": 8,
   "id": "vocal-novel",
   "metadata": {},
   "outputs": [
    {
     "data": {
      "text/plain": [
       "Index(['cell_type', 'source', 'filename', 'competition', 'cell_num'], dtype='object')"
      ]
     },
     "execution_count": 8,
     "metadata": {},
     "output_type": "execute_result"
    }
   ],
   "source": [
    "df_test = df\n",
    "df.columns"
   ]
  },
  {
   "cell_type": "code",
   "execution_count": 9,
   "id": "negative-bobby",
   "metadata": {
    "tags": []
   },
   "outputs": [],
   "source": [
    "allVectors = []\n",
    "allVectorsFilenames = []\n",
    "for i, notebook in df_test.groupby(\"filename\"):\n",
    "    \n",
    "    vectorSeq = []\n",
    "    vectorNameSeq = []\n",
    "    # vectorSeq is a list of doc2vec vectors corresponding to [Cell0, Cell1, .... Celln]\n",
    "    # each vectorSeq list corresponds to a single notebook\n",
    "    for j, row in notebook.iterrows():\n",
    "        \n",
    "        competition = row[3]\n",
    "        cell_num = row[4]\n",
    "        kernel_id = row[2]\n",
    "        \n",
    "        source = row[1]\n",
    "        vector = model.infer_vector(source.split(\" \"))\n",
    "        vectorSeq.append(vector)\n",
    "        vectorNameSeq.append(notebook.iloc[0]['competition'] + \"/\" + notebook.iloc[0]['filename'].astype(str) + \"_\" + str(cell_num))\n",
    "    allVectors.append(vectorSeq)\n",
    "    allVectorsFilenames.append(vectorNameSeq)\n",
    "        "
   ]
  },
  {
   "cell_type": "markdown",
   "id": "complete-receipt",
   "metadata": {},
   "source": [
    "## Convert from lists of arrays to array of arrays"
   ]
  },
  {
   "cell_type": "code",
   "execution_count": null,
   "id": "adaptive-charleston",
   "metadata": {},
   "outputs": [],
   "source": [
    "for i in range(0,A.shape[0]):\n",
    "    A[i] = np.asarray(A[i])"
   ]
  },
  {
   "cell_type": "code",
   "execution_count": 11,
   "id": "martial-victory",
   "metadata": {},
   "outputs": [
    {
     "name": "stdout",
     "output_type": "stream",
     "text": [
      "38086\n"
     ]
    }
   ],
   "source": [
    "print(len(allVectors))"
   ]
  },
  {
   "cell_type": "markdown",
   "id": "pretty-accuracy",
   "metadata": {},
   "source": [
    "# Save the arrays"
   ]
  },
  {
   "cell_type": "code",
   "execution_count": 10,
   "id": "fluid-chamber",
   "metadata": {},
   "outputs": [],
   "source": [
    "arr = np.array(allVectors,dtype=object)\n",
    "arrNames = np.array(allVectorsFilenames, dtype=object)"
   ]
  },
  {
   "cell_type": "code",
   "execution_count": null,
   "id": "eastern-advertiser",
   "metadata": {},
   "outputs": [],
   "source": [
    "arrNames[8]"
   ]
  },
  {
   "cell_type": "code",
   "execution_count": 12,
   "id": "collaborative-petroleum",
   "metadata": {},
   "outputs": [],
   "source": [
    "np.save(\"../data/notebooks-doc2vec-vectors-apr5.npy\", arr)\n",
    "np.save(\"../data/notebooks-doc2vec-vectors-filenames-apr5.npy\", arrNames)"
   ]
  },
  {
   "cell_type": "code",
   "execution_count": null,
   "id": "billion-project",
   "metadata": {},
   "outputs": [],
   "source": []
  }
 ],
 "metadata": {
  "kernelspec": {
   "display_name": "Python 3",
   "language": "python",
   "name": "python3"
  },
  "language_info": {
   "codemirror_mode": {
    "name": "ipython",
    "version": 3
   },
   "file_extension": ".py",
   "mimetype": "text/x-python",
   "name": "python",
   "nbconvert_exporter": "python",
   "pygments_lexer": "ipython3",
   "version": "3.9.2"
  }
 },
 "nbformat": 4,
 "nbformat_minor": 5
}
