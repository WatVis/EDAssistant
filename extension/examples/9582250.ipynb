{
 "cells": [
  {
   "cell_type": "markdown",
   "metadata": {
    "_uuid": "9b2ad91868e06817c9114b07d281b0ccc2debd84"
   },
   "source": [
    "https://www.kaggle.com/c/20-newsgroups-ciphertext-challenge/data"
   ]
  },
  {
   "cell_type": "markdown",
   "metadata": {
    "_uuid": "7b905d81a9688d2498303f5692285cb77e3adbd9"
   },
   "source": [
    "Reading data"
   ]
  },
  {
   "cell_type": "code",
   "execution_count": null,
   "metadata": {
    "_uuid": "dec3dcad62337eaefa47f0f2da6d3e05fd218cf6"
   },
   "outputs": [],
   "source": [
    "import pandas as pd\n",
    "import numpy as np\n",
    "\n",
    "import matplotlib.pyplot as plt"
   ]
  },
  {
   "cell_type": "code",
   "execution_count": null,
   "metadata": {
    "_uuid": "d560f41fb18b3f9099ba052273c04c404904e281"
   },
   "outputs": [],
   "source": [
    "DATA_PATH = '../input'"
   ]
  },
  {
   "cell_type": "code",
   "execution_count": null,
   "metadata": {
    "_uuid": "12d44773fccf2afb051d4b2dc859dbd077322e37"
   },
   "outputs": [],
   "source": [
    "df_train = pd.read_csv(DATA_PATH + '/train.csv', encoding='cp1252')"
   ]
  },
  {
   "cell_type": "code",
   "execution_count": null,
   "metadata": {
    "_uuid": "5ca1731c3ec8ef5d44d22838027229c29c33f689"
   },
   "outputs": [],
   "source": [
    "df_train.shape"
   ]
  },
  {
   "cell_type": "code",
   "execution_count": null,
   "metadata": {
    "_uuid": "184ab31326cd384ddb5242940d71fe38a2d1ea96"
   },
   "outputs": [],
   "source": [
    "df_train['ciphertext_len'] = df_train['ciphertext'].apply(lambda x: len([y.encode() for y in x]))"
   ]
  },
  {
   "cell_type": "code",
   "execution_count": null,
   "metadata": {
    "_uuid": "cffd5994a2d68dd36e35bea77798294bae5c6f9d"
   },
   "outputs": [],
   "source": [
    "df_train.head()"
   ]
  },
  {
   "cell_type": "markdown",
   "metadata": {
    "_uuid": "8bf10bf62fbb900500bf95eda54c756fedb1aee8"
   },
   "source": [
    "Vectorizing"
   ]
  },
  {
   "cell_type": "code",
   "execution_count": null,
   "metadata": {
    "_uuid": "d652aa21c04676a5cd001ae76f02333b7c7f3f88"
   },
   "outputs": [],
   "source": [
    "from sklearn.feature_extraction.text import TfidfVectorizer"
   ]
  },
  {
   "cell_type": "code",
   "execution_count": null,
   "metadata": {
    "_uuid": "735581cb9f52138a08153a605b54064141d2b3ab"
   },
   "outputs": [],
   "source": [
    "%%time\n",
    "vect = TfidfVectorizer(lowercase=False, analyzer='char', ngram_range=(1,5), max_features=30000)\n",
    "X_train_features_sparse = vect.fit_transform(df_train['ciphertext'])\n",
    "X_train_features_sparse"
   ]
  },
  {
   "cell_type": "code",
   "execution_count": null,
   "metadata": {
    "_uuid": "5161fe27a7bdc25bcaf95fa3a85a53e117fee770"
   },
   "outputs": [],
   "source": [
    "from scipy.sparse import hstack"
   ]
  },
  {
   "cell_type": "code",
   "execution_count": null,
   "metadata": {
    "_uuid": "46fff705eec272cdecb5c3ea9abe72cb593cfe34"
   },
   "outputs": [],
   "source": [
    "X_train = X_train_features_sparse.tocsr()\n",
    "X_train"
   ]
  },
  {
   "cell_type": "code",
   "execution_count": null,
   "metadata": {
    "_uuid": "432f2cf735073a22b0b3533ac4f236bb40c1e3a2"
   },
   "outputs": [],
   "source": [
    "y_train = df_train['target']"
   ]
  },
  {
   "cell_type": "code",
   "execution_count": null,
   "metadata": {
    "_uuid": "ac72b3b8ebae735e3a8e90419222aad06f456655"
   },
   "outputs": [],
   "source": [
    "df_test = pd.read_csv(DATA_PATH + '/test.csv', encoding='cp1252')"
   ]
  },
  {
   "cell_type": "code",
   "execution_count": null,
   "metadata": {
    "_uuid": "1f829aff9a8f4d12ed11d3d2e1784877eb703416"
   },
   "outputs": [],
   "source": [
    "%%time\n",
    "X_test_features_sparse = vect.transform(df_test['ciphertext'])"
   ]
  },
  {
   "cell_type": "code",
   "execution_count": null,
   "metadata": {
    "_uuid": "ef3085e7920cb38644ad5301df06b84c3325366a"
   },
   "outputs": [],
   "source": [
    "X_test = X_test_features_sparse.tocsr()\n",
    "X_test"
   ]
  },
  {
   "cell_type": "code",
   "execution_count": null,
   "metadata": {
    "_uuid": "1546f327f1d1ad9930169334e8ea2fde8962befc"
   },
   "outputs": [],
   "source": [
    "del(vect)"
   ]
  },
  {
   "cell_type": "markdown",
   "metadata": {
    "_uuid": "64a87a5a564d62fce3214c94a56e5da0cde6483f"
   },
   "source": [
    "Splitting data by difficulty"
   ]
  },
  {
   "cell_type": "code",
   "execution_count": null,
   "metadata": {
    "_uuid": "c734b909e76ed0370acf614dd19487a2366ad3ce"
   },
   "outputs": [],
   "source": [
    "diffs = list(range(1, 5))"
   ]
  },
  {
   "cell_type": "code",
   "execution_count": null,
   "metadata": {
    "_uuid": "0714328c93896a3aac929833806f11aa2121d77e"
   },
   "outputs": [],
   "source": [
    "from sklearn.model_selection import train_test_split"
   ]
  },
  {
   "cell_type": "code",
   "execution_count": null,
   "metadata": {
    "_uuid": "9e68c9db272bda4c4a6dad40ef91fc385973b647"
   },
   "outputs": [],
   "source": [
    "def split_idx_by_column(df, column, valid_size=None):\n",
    "    idxs, idxs_valid = {}, {}\n",
    "    for d in diffs:\n",
    "        idx = df.index[df[column] == d]\n",
    "        if valid_size is None:\n",
    "            idxs[d] = idx\n",
    "        else:\n",
    "            idx, idx_valid = train_test_split(idx, random_state=42, \n",
    "                                              test_size=valid_size, stratify=df['target'][idx])\n",
    "            idxs[d] = idx\n",
    "            idxs_valid[d] = idx_valid\n",
    "    if valid_size is None:\n",
    "        return idxs\n",
    "    else:\n",
    "        return idxs, idxs_valid"
   ]
  },
  {
   "cell_type": "code",
   "execution_count": null,
   "metadata": {
    "_uuid": "a4ecf6e35c7f18d97d1ca816da3106261311cb74"
   },
   "outputs": [],
   "source": [
    "train_idxs = split_idx_by_column(df_train, 'difficulty')\n",
    "train_part_idxs, valid_idxs = split_idx_by_column(df_train, 'difficulty', valid_size=0.1)\n",
    "test_idxs = split_idx_by_column(df_test, 'difficulty')"
   ]
  },
  {
   "cell_type": "code",
   "execution_count": null,
   "metadata": {
    "_uuid": "44e5ac1cd63dbb27c10f4d325adfe4531f44becc"
   },
   "outputs": [],
   "source": [
    "print('train part sizes:', [z.shape[0] for z in train_part_idxs.values()])\n",
    "print('valid sizes:', [z.shape[0] for z in valid_idxs.values()])\n",
    "print('test sizes:', [z.shape[0] for z in test_idxs.values()])"
   ]
  },
  {
   "cell_type": "code",
   "execution_count": null,
   "metadata": {
    "_uuid": "6b50ca7b3bc1d7e74b1851c5e3a7bc24a6880e32"
   },
   "outputs": [],
   "source": [
    "y_valid_to_concat = []\n",
    "for d in diffs:\n",
    "    y_valid_to_concat.append(y_train.loc[valid_idxs[d]])\n",
    "y_valid = pd.concat(y_valid_to_concat)\n",
    "y_valid.sort_index(inplace=True)\n",
    "y_valid.index"
   ]
  },
  {
   "cell_type": "code",
   "execution_count": null,
   "metadata": {
    "_uuid": "dc768ca597956d63b8434f36bf2f3c54f9852e97"
   },
   "outputs": [],
   "source": [
    "for d in diffs:\n",
    "    plt.figure()\n",
    "    plt.title(f'Difficulty {d}')\n",
    "    idx = train_part_idxs[d].values\n",
    "    plt.hist(y_train[idx], bins=20, normed=False, alpha=0.5)\n",
    "    idx = valid_idxs[d].values\n",
    "    plt.hist(y_train[idx], bins=20, normed=False, alpha=0.5)"
   ]
  },
  {
   "cell_type": "markdown",
   "metadata": {
    "_uuid": "eb68f05fac9353722f2d1dcba3dcbc201c1e1cce"
   },
   "source": [
    "LR"
   ]
  },
  {
   "cell_type": "code",
   "execution_count": null,
   "metadata": {
    "_uuid": "472cac76c3bded8c2c8b9e2bde32abd8a867db7d"
   },
   "outputs": [],
   "source": [
    "from sklearn.pipeline import Pipeline\n",
    "from sklearn.preprocessing import MaxAbsScaler"
   ]
  },
  {
   "cell_type": "code",
   "execution_count": null,
   "metadata": {
    "_uuid": "f6ed851f6cb48ff48573c6089376ebbaaa8bb659"
   },
   "outputs": [],
   "source": [
    "from sklearn.linear_model import LogisticRegression"
   ]
  },
  {
   "cell_type": "code",
   "execution_count": null,
   "metadata": {
    "_uuid": "c59f3dcdb75e8a21e7a1b8c7504957ee9ac2596d"
   },
   "outputs": [],
   "source": [
    "pipes = {}\n",
    "for d in diffs:\n",
    "    pipe = Pipeline(memory=None, steps=[\n",
    "        ('scaler', MaxAbsScaler(copy=False)),\n",
    "        ('clf', LogisticRegression(solver='lbfgs', multi_class='multinomial', verbose=2, n_jobs=-1))\n",
    "    ])\n",
    "    pipes[d] = pipe"
   ]
  },
  {
   "cell_type": "code",
   "execution_count": null,
   "metadata": {
    "_uuid": "9b85a968ba8a9095bfa75dbe3e118bd80a986285"
   },
   "outputs": [],
   "source": [
    "def train(models, X, y, diff_idxs):\n",
    "    for d in diffs:\n",
    "        idx = diff_idxs[d].values\n",
    "        print(f'difficulty = {d}, samples = {idx.shape[0]}')\n",
    "        model = models[d]\n",
    "        model.fit(X[idx], y.loc[idx])\n",
    "    return models"
   ]
  },
  {
   "cell_type": "code",
   "execution_count": null,
   "metadata": {
    "_uuid": "a9625bb5fefb86ca3f0fb2f25b2c14b1a550f633"
   },
   "outputs": [],
   "source": [
    "%%time\n",
    "train(pipes, X_train, y_train, train_part_idxs)"
   ]
  },
  {
   "cell_type": "code",
   "execution_count": null,
   "metadata": {
    "_uuid": "acf3c66b97b9362d6460e246eb44d98e7cd7377b"
   },
   "outputs": [],
   "source": [
    "from sklearn.metrics import confusion_matrix"
   ]
  },
  {
   "cell_type": "code",
   "execution_count": null,
   "metadata": {
    "_uuid": "5c346526dc2c7ee84d9091f028333658ce4e1547"
   },
   "outputs": [],
   "source": [
    "def predict(models, X, diff_idxs, show_graph=True, y_truth=None):\n",
    "    y_preds = {}\n",
    "    for d in diffs:\n",
    "        idx = diff_idxs[d].values\n",
    "        model = models[d]\n",
    "        y_pred = model.predict(X[idx])\n",
    "        y_preds[d] = pd.Series(data=y_pred, index=idx)\n",
    "        print(f'difficulty = {d}, valid_preds = {y_preds[d].shape}')\n",
    "        if show_graph:\n",
    "            plt.figure(figsize=(12,4))\n",
    "            plt.subplot(121)\n",
    "            plt.title(f'Difficulty {d}')\n",
    "            plt.hist(y_pred, bins=20, normed=False, label='pred', alpha=0.5)\n",
    "            if y_truth is not None:\n",
    "                plt.hist(y_truth[idx], bins=20, label='valid', alpha=0.5)\n",
    "            plt.gca().set_xticks(range(20))\n",
    "            plt.grid()\n",
    "            plt.legend()\n",
    "            if y_truth is not None:\n",
    "                cm = confusion_matrix(y_truth[idx], y_pred)\n",
    "                plt.subplot(122)\n",
    "                plt.imshow(cm)\n",
    "                plt.colorbar()\n",
    "                plt.ylabel('True label')\n",
    "                plt.xlabel('Predicted label')\n",
    "    y_pred_to_concat = []\n",
    "    for d in diffs:\n",
    "        y_pred_to_concat.append(y_preds[d])\n",
    "    y_pred = pd.concat(y_pred_to_concat)\n",
    "    y_pred.sort_index(inplace=True)\n",
    "    return y_pred"
   ]
  },
  {
   "cell_type": "code",
   "execution_count": null,
   "metadata": {
    "_uuid": "9a773d8543a3d2f453f9dd6c662636e8d460ef5c"
   },
   "outputs": [],
   "source": [
    "y_valid_pred = predict(pipes, X_train, valid_idxs, y_truth=y_valid)"
   ]
  },
  {
   "cell_type": "code",
   "execution_count": null,
   "metadata": {
    "_uuid": "948910bc99c962e397908d2496db447ed850202e"
   },
   "outputs": [],
   "source": [
    "from sklearn.metrics import f1_score, precision_recall_fscore_support"
   ]
  },
  {
   "cell_type": "code",
   "execution_count": null,
   "metadata": {
    "_uuid": "31ed50c9569567b7e014d5a7b4d2635553d3c85d"
   },
   "outputs": [],
   "source": [
    "f1_score(y_valid, y_valid_pred, average='macro')"
   ]
  },
  {
   "cell_type": "code",
   "execution_count": null,
   "metadata": {
    "_uuid": "3d218e132e113e754c5381619addc422845b202b"
   },
   "outputs": [],
   "source": [
    "precision_recall_fscore_support(y_valid, y_valid_pred, average='macro')"
   ]
  },
  {
   "cell_type": "code",
   "execution_count": null,
   "metadata": {
    "_uuid": "534da3eb34edb02893ee66fd5162759c957e9872"
   },
   "outputs": [],
   "source": [
    "plt.hist(y_valid, bins=20, label='valid', alpha=0.5)\n",
    "plt.hist(y_valid_pred, bins=20, label='valid_pred', alpha=0.5)\n",
    "plt.gca().set_xticks(range(20))\n",
    "plt.grid()\n",
    "plt.legend()\n",
    "pass"
   ]
  },
  {
   "cell_type": "code",
   "execution_count": null,
   "metadata": {
    "_uuid": "2bf61967791272c06dbbb6047cd91fd3b6df2c53"
   },
   "outputs": [],
   "source": [
    "cm = confusion_matrix(y_valid, y_valid_pred)\n",
    "plt.figure()\n",
    "plt.imshow(cm)\n",
    "plt.colorbar()\n",
    "plt.ylabel('True label')\n",
    "plt.xlabel('Predicted label')"
   ]
  },
  {
   "cell_type": "markdown",
   "metadata": {
    "_uuid": "3d9dc7d564ef466c0bfe0688fa46fc59b09144c9"
   },
   "source": [
    "LR tuning hyperparams"
   ]
  },
  {
   "cell_type": "code",
   "execution_count": null,
   "metadata": {
    "_uuid": "b7543c9b2dffea781f6cecd61e05378147380fc9"
   },
   "outputs": [],
   "source": [
    "from sklearn.model_selection import StratifiedKFold\n",
    "from sklearn.model_selection import GridSearchCV"
   ]
  },
  {
   "cell_type": "code",
   "execution_count": null,
   "metadata": {
    "_uuid": "8e90122764ad386277bdb3dd340d9819d7cb0448"
   },
   "outputs": [],
   "source": [
    "cv = StratifiedKFold(2)\n",
    "params = {\n",
    "    'clf__C': np.logspace(-2, 2, 5)\n",
    "}\n",
    "grids = {}\n",
    "for d in diffs:\n",
    "    pipe = pipes[d]\n",
    "    grid = GridSearchCV(estimator=pipe, cv=cv, param_grid=params, \n",
    "                        scoring='f1_macro', return_train_score=True, verbose=2)\n",
    "    grids[d] = grid"
   ]
  },
  {
   "cell_type": "code",
   "execution_count": null,
   "metadata": {
    "_uuid": "58f931761b4e86c3e40a6ff7a5a883e4d2ed9170",
    "scrolled": true
   },
   "outputs": [],
   "source": [
    "%%time\n",
    "train(grids, X_train, y_train, train_idxs)"
   ]
  },
  {
   "cell_type": "code",
   "execution_count": null,
   "metadata": {
    "_uuid": "bb42eb42db46a7b6aff344698f7dc1173584b5d3"
   },
   "outputs": [],
   "source": [
    "for d in diffs:\n",
    "    print(f'Difficulty = {d}')\n",
    "    print(grids[d].cv_results_)"
   ]
  },
  {
   "cell_type": "markdown",
   "metadata": {
    "_uuid": "3ad4ceb1f7b0aa7ae45a4b9247b213c3f6ee3da8"
   },
   "source": [
    "Forecasting"
   ]
  },
  {
   "cell_type": "code",
   "execution_count": null,
   "metadata": {
    "_uuid": "8c83d1f09fc1db7cd7b51e21373bbb4e781397a1"
   },
   "outputs": [],
   "source": [
    "models = {}\n",
    "for d in diffs:\n",
    "    model = grids[d].best_estimator_\n",
    "    models[d] = model\n",
    "    print(f'Difficulty = {d}, C={model.steps[1][1].C}')"
   ]
  },
  {
   "cell_type": "code",
   "execution_count": null,
   "metadata": {
    "_uuid": "ae7bdb15a0f1e111e3f2bcbd119e68ea275293a8"
   },
   "outputs": [],
   "source": [
    "%%time\n",
    "y_test_pred = predict(models, X_test, test_idxs)"
   ]
  },
  {
   "cell_type": "code",
   "execution_count": null,
   "metadata": {
    "_uuid": "3345b8dde9b55c712b5badaa10b9e07532675669"
   },
   "outputs": [],
   "source": [
    "plt.hist(y_train, bins=20, label='train', alpha=0.5, density=True)\n",
    "plt.hist(y_test_pred, bins=20, label='pred', alpha=0.5, density=True)\n",
    "plt.gca().set_xticks(range(20))\n",
    "plt.grid()\n",
    "plt.legend()\n",
    "pass"
   ]
  },
  {
   "cell_type": "code",
   "execution_count": null,
   "metadata": {
    "_uuid": "bcd7184b8f0f364a56bce6aea67494fbb5cc1d57"
   },
   "outputs": [],
   "source": [
    "df_subm = pd.read_csv(DATA_PATH +'/sample_submission.csv')\n",
    "df_subm['Predicted'] = y_test_pred\n",
    "df_subm.head()"
   ]
  },
  {
   "cell_type": "code",
   "execution_count": null,
   "metadata": {
    "_uuid": "59515461bf7a2db065d2ca12b11decccf457abca"
   },
   "outputs": [],
   "source": [
    "df_subm.to_csv('submission.csv', index=False)"
   ]
  },
  {
   "cell_type": "code",
   "execution_count": null,
   "metadata": {
    "_uuid": "ac15c2650edd4b54d86eb59f10ff36d08ed99408"
   },
   "outputs": [],
   "source": []
  },
  {
   "cell_type": "code",
   "execution_count": null,
   "metadata": {
    "_uuid": "2f9296e649dc1a4078952b412b2f4d46cd5186f2"
   },
   "outputs": [],
   "source": []
  },
  {
   "cell_type": "code",
   "execution_count": null,
   "metadata": {
    "_uuid": "232a995049e0c3633b1df695a6a2d9cf8ad58c0f"
   },
   "outputs": [],
   "source": []
  }
 ],
 "metadata": {
  "kernelspec": {
   "display_name": "Python 3",
   "language": "python",
   "name": "python3"
  },
  "language_info": {
   "codemirror_mode": {
    "name": "ipython",
    "version": 3
   },
   "file_extension": ".py",
   "mimetype": "text/x-python",
   "name": "python",
   "nbconvert_exporter": "python",
   "pygments_lexer": "ipython3",
   "version": "3.8.5"
  }
 },
 "nbformat": 4,
 "nbformat_minor": 1
}
