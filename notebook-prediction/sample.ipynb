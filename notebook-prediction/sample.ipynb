{
 "metadata": {
  "language_info": {
   "codemirror_mode": {
    "name": "ipython",
    "version": 3
   },
   "file_extension": ".py",
   "mimetype": "text/x-python",
   "name": "python",
   "nbconvert_exporter": "python",
   "pygments_lexer": "ipython3",
   "version": 3
  },
  "orig_nbformat": 2
 },
 "nbformat": 4,
 "nbformat_minor": 2,
 "cells": [
  {
   "cell_type": "code",
   "execution_count": null,
   "metadata": {},
   "outputs": [],
   "source": [
    "import os\n",
    "for dirname, _, filenames in os.walk('/kaggle/input'):\n",
    "import pandas as pd\n",
    "import numpy as np\n",
    "import matplotlib.pyplot as plt\n",
    "from tensorflow.keras.preprocessing.image import ImageDataGenerator\n",
    "import cv2\n",
    "train_csv_df = pd.read_csv(\"/kaggle/input/bengaliai-cv19/train.csv\")"
   ]
  },
  {
   "cell_type": "code",
   "execution_count": null,
   "metadata": {},
   "outputs": [],
   "source": [
    "train_image_data_df_0 = pd.read_parquet(\"/kaggle/input/bengaliai-cv19/train_image_data_0.parquet\")"
   ]
  },
  {
   "cell_type": "code",
   "execution_count": null,
   "metadata": {},
   "outputs": [],
   "source": [
    "one_hot_df = pd.concat([\n",
    "    train_csv_df[[\"image_id\"]],\n",
    "    pd.get_dummies(train_csv_df.grapheme_root, prefix=\"grapheme_root\"),\n",
    "    pd.get_dummies(train_csv_df.vowel_diacritic, prefix=\"vowel_diacritic\"),\n",
    "    pd.get_dummies(train_csv_df.consonant_diacritic, prefix=\"consonant_diacritic\"),\n",
    "], axis = 1)\n",
    "one_hot_df.head()"
   ]
  }
 ]
}