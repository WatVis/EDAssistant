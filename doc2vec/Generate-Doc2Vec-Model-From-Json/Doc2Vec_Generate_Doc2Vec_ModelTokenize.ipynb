{
 "cells": [
  {
   "cell_type": "markdown",
   "metadata": {},
   "source": [
    "# Perform Doc2Vec"
   ]
  },
  {
   "cell_type": "markdown",
   "metadata": {},
   "source": [
    "# Read data"
   ]
  },
  {
   "cell_type": "markdown",
   "metadata": {},
   "source": [
    "This notebook trains a doc2vec model on the entire notebook dataset. "
   ]
  },
  {
   "cell_type": "markdown",
   "metadata": {},
   "source": [
    "# Import modules"
   ]
  },
  {
   "cell_type": "code",
   "execution_count": 5,
   "metadata": {
    "tags": []
   },
   "outputs": [],
   "source": [
    "import pandas as pd\n",
    "import numpy as np\n",
    "import os\n",
    "import gensim\n",
    "from gensim.models.doc2vec import TaggedDocument"
   ]
  },
  {
   "cell_type": "markdown",
   "metadata": {},
   "source": [
    "# Read data"
   ]
  },
  {
   "cell_type": "code",
   "execution_count": 6,
   "metadata": {},
   "outputs": [],
   "source": [
    "df = pd.read_json(\"../data/all-notebooks-tokenized.json\", orient=\"index\")\n",
    "df['filename'] = df['filename'].astype(str)"
   ]
  },
  {
   "cell_type": "code",
   "execution_count": 7,
   "metadata": {},
   "outputs": [
    {
     "data": {
      "text/plain": [
       "Index(['cell_type', 'source', 'filename', 'competition', 'tokenized_source'], dtype='object')"
      ]
     },
     "execution_count": 7,
     "metadata": {},
     "output_type": "execute_result"
    }
   ],
   "source": [
    "df.columns"
   ]
  },
  {
   "cell_type": "code",
   "execution_count": 16,
   "metadata": {},
   "outputs": [
    {
     "data": {
      "text/html": [
       "<div>\n",
       "<style scoped>\n",
       "    .dataframe tbody tr th:only-of-type {\n",
       "        vertical-align: middle;\n",
       "    }\n",
       "\n",
       "    .dataframe tbody tr th {\n",
       "        vertical-align: top;\n",
       "    }\n",
       "\n",
       "    .dataframe thead th {\n",
       "        text-align: right;\n",
       "    }\n",
       "</style>\n",
       "<table border=\"1\" class=\"dataframe\">\n",
       "  <thead>\n",
       "    <tr style=\"text-align: right;\">\n",
       "      <th></th>\n",
       "      <th>cell_type</th>\n",
       "      <th>source</th>\n",
       "      <th>filename</th>\n",
       "      <th>competition</th>\n",
       "      <th>tokenized_source</th>\n",
       "    </tr>\n",
       "  </thead>\n",
       "  <tbody>\n",
       "    <tr>\n",
       "      <th>0</th>\n",
       "      <td>code</td>\n",
       "      <td>from subprocess import check_output\\n import n...</td>\n",
       "      <td>1806927</td>\n",
       "      <td>favorita-grocery-sales-forecasting</td>\n",
       "      <td>[from, subprocess, import, check_output, [NEWL...</td>\n",
       "    </tr>\n",
       "    <tr>\n",
       "      <th>1</th>\n",
       "      <td>code</td>\n",
       "      <td>holiday = pd.read_csv('../input/holidays_event...</td>\n",
       "      <td>1806927</td>\n",
       "      <td>favorita-grocery-sales-forecasting</td>\n",
       "      <td>[holiday, =, pd, ., read_csv, (, '../input/hol...</td>\n",
       "    </tr>\n",
       "    <tr>\n",
       "      <th>2</th>\n",
       "      <td>code</td>\n",
       "      <td># converting date into datetime format\\n holid...</td>\n",
       "      <td>1806927</td>\n",
       "      <td>favorita-grocery-sales-forecasting</td>\n",
       "      <td>[# converting date into datetime format, [NEWL...</td>\n",
       "    </tr>\n",
       "    <tr>\n",
       "      <th>3</th>\n",
       "      <td>code</td>\n",
       "      <td># all bridge-type has puente (puente actually ...</td>\n",
       "      <td>1806927</td>\n",
       "      <td>favorita-grocery-sales-forecasting</td>\n",
       "      <td>[# all bridge-type has puente (puente actually...</td>\n",
       "    </tr>\n",
       "    <tr>\n",
       "      <th>4</th>\n",
       "      <td>code</td>\n",
       "      <td># for Regional and Local holidays, \\n # name l...</td>\n",
       "      <td>1806927</td>\n",
       "      <td>favorita-grocery-sales-forecasting</td>\n",
       "      <td>[# for Regional and Local holidays, , [NEWLINE...</td>\n",
       "    </tr>\n",
       "  </tbody>\n",
       "</table>\n",
       "</div>"
      ],
      "text/plain": [
       "  cell_type                                             source filename  \\\n",
       "0      code  from subprocess import check_output\\n import n...  1806927   \n",
       "1      code  holiday = pd.read_csv('../input/holidays_event...  1806927   \n",
       "2      code  # converting date into datetime format\\n holid...  1806927   \n",
       "3      code  # all bridge-type has puente (puente actually ...  1806927   \n",
       "4      code  # for Regional and Local holidays, \\n # name l...  1806927   \n",
       "\n",
       "                          competition  \\\n",
       "0  favorita-grocery-sales-forecasting   \n",
       "1  favorita-grocery-sales-forecasting   \n",
       "2  favorita-grocery-sales-forecasting   \n",
       "3  favorita-grocery-sales-forecasting   \n",
       "4  favorita-grocery-sales-forecasting   \n",
       "\n",
       "                                    tokenized_source  \n",
       "0  [from, subprocess, import, check_output, [NEWL...  \n",
       "1  [holiday, =, pd, ., read_csv, (, '../input/hol...  \n",
       "2  [# converting date into datetime format, [NEWL...  \n",
       "3  [# all bridge-type has puente (puente actually...  \n",
       "4  [# for Regional and Local holidays, , [NEWLINE...  "
      ]
     },
     "execution_count": 16,
     "metadata": {},
     "output_type": "execute_result"
    }
   ],
   "source": [
    "df.head()"
   ]
  },
  {
   "cell_type": "markdown",
   "metadata": {},
   "source": [
    "### Ignore markdown, only consider code for now"
   ]
  },
  {
   "cell_type": "code",
   "execution_count": 9,
   "metadata": {},
   "outputs": [],
   "source": [
    "subdf = df\n",
    "subdf = df[df.cell_type == \"code\"] "
   ]
  },
  {
   "cell_type": "markdown",
   "metadata": {},
   "source": [
    "### Calculate the line number for each notebook"
   ]
  },
  {
   "cell_type": "code",
   "execution_count": 18,
   "metadata": {},
   "outputs": [
    {
     "name": "stderr",
     "output_type": "stream",
     "text": [
      "<ipython-input-18-8a4e01e869df>:1: SettingWithCopyWarning: \n",
      "A value is trying to be set on a copy of a slice from a DataFrame.\n",
      "Try using .loc[row_indexer,col_indexer] = value instead\n",
      "\n",
      "See the caveats in the documentation: https://pandas.pydata.org/pandas-docs/stable/user_guide/indexing.html#returning-a-view-versus-a-copy\n",
      "  subdf['cell_num']=subdf.groupby(['filename']).cumcount()+1\n",
      "<ipython-input-18-8a4e01e869df>:2: SettingWithCopyWarning: \n",
      "A value is trying to be set on a copy of a slice from a DataFrame.\n",
      "Try using .loc[row_indexer,col_indexer] = value instead\n",
      "\n",
      "See the caveats in the documentation: https://pandas.pydata.org/pandas-docs/stable/user_guide/indexing.html#returning-a-view-versus-a-copy\n",
      "  subdf['filename_with_cellnum'] = subdf['filename'] + \"_\" + subdf['cell_num'].astype(str)\n",
      "<ipython-input-18-8a4e01e869df>:5: SettingWithCopyWarning: \n",
      "A value is trying to be set on a copy of a slice from a DataFrame.\n",
      "Try using .loc[row_indexer,col_indexer] = value instead\n",
      "\n",
      "See the caveats in the documentation: https://pandas.pydata.org/pandas-docs/stable/user_guide/indexing.html#returning-a-view-versus-a-copy\n",
      "  subdf['tokenized_source_str'] = subdf['tokenized_source'].astype(str)\n"
     ]
    }
   ],
   "source": [
    "subdf['cell_num']=subdf.groupby(['filename']).cumcount()+1\n",
    "subdf['filename_with_cellnum'] = subdf['filename'] + \"_\" + subdf['cell_num'].astype(str)\n",
    "\n",
    "# Convert list of strings to string\n",
    "subdf['tokenized_source_str'] = subdf['tokenized_source'].astype(str)"
   ]
  },
  {
   "cell_type": "code",
   "execution_count": 19,
   "metadata": {},
   "outputs": [
    {
     "data": {
      "text/html": [
       "<div>\n",
       "<style scoped>\n",
       "    .dataframe tbody tr th:only-of-type {\n",
       "        vertical-align: middle;\n",
       "    }\n",
       "\n",
       "    .dataframe tbody tr th {\n",
       "        vertical-align: top;\n",
       "    }\n",
       "\n",
       "    .dataframe thead th {\n",
       "        text-align: right;\n",
       "    }\n",
       "</style>\n",
       "<table border=\"1\" class=\"dataframe\">\n",
       "  <thead>\n",
       "    <tr style=\"text-align: right;\">\n",
       "      <th></th>\n",
       "      <th>cell_type</th>\n",
       "      <th>source</th>\n",
       "      <th>filename</th>\n",
       "      <th>competition</th>\n",
       "      <th>tokenized_source</th>\n",
       "      <th>cell_num</th>\n",
       "      <th>filename_with_cellnum</th>\n",
       "      <th>tokenized_source_str</th>\n",
       "    </tr>\n",
       "  </thead>\n",
       "  <tbody>\n",
       "    <tr>\n",
       "      <th>0</th>\n",
       "      <td>code</td>\n",
       "      <td>from subprocess import check_output\\n import n...</td>\n",
       "      <td>1806927</td>\n",
       "      <td>favorita-grocery-sales-forecasting</td>\n",
       "      <td>[from, subprocess, import, check_output, [NEWL...</td>\n",
       "      <td>1</td>\n",
       "      <td>1806927_1</td>\n",
       "      <td>['from', 'subprocess', 'import', 'check_output...</td>\n",
       "    </tr>\n",
       "    <tr>\n",
       "      <th>1</th>\n",
       "      <td>code</td>\n",
       "      <td>holiday = pd.read_csv('../input/holidays_event...</td>\n",
       "      <td>1806927</td>\n",
       "      <td>favorita-grocery-sales-forecasting</td>\n",
       "      <td>[holiday, =, pd, ., read_csv, (, '../input/hol...</td>\n",
       "      <td>2</td>\n",
       "      <td>1806927_2</td>\n",
       "      <td>['holiday', '=', 'pd', '.', 'read_csv', '(', \"...</td>\n",
       "    </tr>\n",
       "    <tr>\n",
       "      <th>2</th>\n",
       "      <td>code</td>\n",
       "      <td># converting date into datetime format\\n holid...</td>\n",
       "      <td>1806927</td>\n",
       "      <td>favorita-grocery-sales-forecasting</td>\n",
       "      <td>[# converting date into datetime format, [NEWL...</td>\n",
       "      <td>3</td>\n",
       "      <td>1806927_3</td>\n",
       "      <td>['# converting date into datetime format', '[N...</td>\n",
       "    </tr>\n",
       "    <tr>\n",
       "      <th>3</th>\n",
       "      <td>code</td>\n",
       "      <td># all bridge-type has puente (puente actually ...</td>\n",
       "      <td>1806927</td>\n",
       "      <td>favorita-grocery-sales-forecasting</td>\n",
       "      <td>[# all bridge-type has puente (puente actually...</td>\n",
       "      <td>4</td>\n",
       "      <td>1806927_4</td>\n",
       "      <td>['# all bridge-type has puente (puente actuall...</td>\n",
       "    </tr>\n",
       "    <tr>\n",
       "      <th>4</th>\n",
       "      <td>code</td>\n",
       "      <td># for Regional and Local holidays, \\n # name l...</td>\n",
       "      <td>1806927</td>\n",
       "      <td>favorita-grocery-sales-forecasting</td>\n",
       "      <td>[# for Regional and Local holidays, , [NEWLINE...</td>\n",
       "      <td>5</td>\n",
       "      <td>1806927_5</td>\n",
       "      <td>['# for Regional and Local holidays, ', '[NEWL...</td>\n",
       "    </tr>\n",
       "  </tbody>\n",
       "</table>\n",
       "</div>"
      ],
      "text/plain": [
       "  cell_type                                             source filename  \\\n",
       "0      code  from subprocess import check_output\\n import n...  1806927   \n",
       "1      code  holiday = pd.read_csv('../input/holidays_event...  1806927   \n",
       "2      code  # converting date into datetime format\\n holid...  1806927   \n",
       "3      code  # all bridge-type has puente (puente actually ...  1806927   \n",
       "4      code  # for Regional and Local holidays, \\n # name l...  1806927   \n",
       "\n",
       "                          competition  \\\n",
       "0  favorita-grocery-sales-forecasting   \n",
       "1  favorita-grocery-sales-forecasting   \n",
       "2  favorita-grocery-sales-forecasting   \n",
       "3  favorita-grocery-sales-forecasting   \n",
       "4  favorita-grocery-sales-forecasting   \n",
       "\n",
       "                                    tokenized_source  cell_num  \\\n",
       "0  [from, subprocess, import, check_output, [NEWL...         1   \n",
       "1  [holiday, =, pd, ., read_csv, (, '../input/hol...         2   \n",
       "2  [# converting date into datetime format, [NEWL...         3   \n",
       "3  [# all bridge-type has puente (puente actually...         4   \n",
       "4  [# for Regional and Local holidays, , [NEWLINE...         5   \n",
       "\n",
       "  filename_with_cellnum                               tokenized_source_str  \n",
       "0             1806927_1  ['from', 'subprocess', 'import', 'check_output...  \n",
       "1             1806927_2  ['holiday', '=', 'pd', '.', 'read_csv', '(', \"...  \n",
       "2             1806927_3  ['# converting date into datetime format', '[N...  \n",
       "3             1806927_4  ['# all bridge-type has puente (puente actuall...  \n",
       "4             1806927_5  ['# for Regional and Local holidays, ', '[NEWL...  "
      ]
     },
     "execution_count": 19,
     "metadata": {},
     "output_type": "execute_result"
    }
   ],
   "source": [
    "subdf.head()"
   ]
  },
  {
   "cell_type": "markdown",
   "metadata": {},
   "source": [
    "# Preprocessing\n",
    "## Generate input data from raw source"
   ]
  },
  {
   "cell_type": "code",
   "execution_count": 12,
   "metadata": {},
   "outputs": [],
   "source": [
    "from gensim.utils import simple_preprocess\n",
    "\n",
    "class MyDataframeCorpus(object):\n",
    "    def __init__(self, source_df, text_col, tag_col):\n",
    "        self.source_df = source_df\n",
    "        self.text_col = text_col\n",
    "        self.tag_col = tag_col\n",
    "\n",
    "    def __iter__(self):\n",
    "        for i, row in self.source_df.iterrows():\n",
    "            yield TaggedDocument(words=simple_preprocess(row[self.text_col]), \n",
    "                                 tags=[row[self.tag_col]])\n"
   ]
  },
  {
   "cell_type": "markdown",
   "metadata": {},
   "source": [
    "## Train the model"
   ]
  },
  {
   "cell_type": "code",
   "execution_count": 24,
   "metadata": {},
   "outputs": [],
   "source": [
    "train_corpus = MyDataframeCorpus(subdf, 'tokenized_source_str', 'filename_with_cellnum')"
   ]
  },
  {
   "cell_type": "code",
   "execution_count": 25,
   "metadata": {},
   "outputs": [],
   "source": [
    "model = gensim.models.doc2vec.Doc2Vec(vector_size=768,  epochs=40)"
   ]
  },
  {
   "cell_type": "code",
   "execution_count": 26,
   "metadata": {},
   "outputs": [],
   "source": [
    "model.build_vocab(train_corpus)"
   ]
  },
  {
   "cell_type": "code",
   "execution_count": 27,
   "metadata": {},
   "outputs": [],
   "source": [
    "model.train(train_corpus, total_examples=model.corpus_count, epochs=model.epochs)"
   ]
  },
  {
   "cell_type": "markdown",
   "metadata": {},
   "source": [
    "## Test inference"
   ]
  },
  {
   "cell_type": "code",
   "execution_count": 12,
   "metadata": {},
   "outputs": [],
   "source": [
    "testinput = \"import numpy as np\"\n",
    "vector = model.infer_vector(testinput.split(\" \"))\n",
    "# print(vector)"
   ]
  },
  {
   "cell_type": "code",
   "execution_count": 17,
   "metadata": {},
   "outputs": [
    {
     "name": "stdout",
     "output_type": "stream",
     "text": [
      "[('10506138_2', 0.8787171840667725), ('31005248_62', 0.876400887966156), ('11065888_1', 0.8746524453163147), ('4384070_7', 0.8730512857437134), ('32082014_34', 0.872079610824585), ('2604429_7', 0.8716046214103699), ('236052_1', 0.8713623285293579), ('38355971_1', 0.8710976839065552), ('22398214_10', 0.870916485786438), ('36992845_6', 0.87025386095047)]\n"
     ]
    },
    {
     "data": {
      "text/plain": [
       "776094    plt.rcParams['figure.figsize'] = (12, 9)\n",
       "Name: source, dtype: object"
      ]
     },
     "metadata": {},
     "output_type": "display_data"
    },
    {
     "data": {
      "text/plain": [
       "923774    from sklearn.ensemble import RandomForestClass...\n",
       "Name: source, dtype: object"
      ]
     },
     "metadata": {},
     "output_type": "display_data"
    },
    {
     "data": {
      "text/plain": [
       "480993    import numpy as np\\n import pandas as pd\\n imp...\n",
       "Name: source, dtype: object"
      ]
     },
     "metadata": {},
     "output_type": "display_data"
    }
   ],
   "source": [
    "sims = model.docvecs.most_similar([vector])\n",
    "print(sims)\n",
    "\n",
    "for result in sims[0:3]:\n",
    "    display(df[df.filename_with_cellnum == result[0]]['source'])"
   ]
  },
  {
   "cell_type": "markdown",
   "metadata": {},
   "source": [
    "# Save the model"
   ]
  },
  {
   "cell_type": "code",
   "execution_count": 28,
   "metadata": {},
   "outputs": [],
   "source": [
    "model.save(\"../model/notebook-doc2vec-model-apr24.model\")"
   ]
  }
 ],
 "metadata": {
  "kernelspec": {
   "display_name": "Python 3",
   "language": "python",
   "name": "python3"
  },
  "language_info": {
   "codemirror_mode": {
    "name": "ipython",
    "version": 3
   },
   "file_extension": ".py",
   "mimetype": "text/x-python",
   "name": "python",
   "nbconvert_exporter": "python",
   "pygments_lexer": "ipython3",
   "version": "3.9.2"
  }
 },
 "nbformat": 4,
 "nbformat_minor": 4
}
