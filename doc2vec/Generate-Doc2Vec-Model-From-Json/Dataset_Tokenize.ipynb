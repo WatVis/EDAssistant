{
 "cells": [
  {
   "cell_type": "markdown",
   "id": "administrative-pilot",
   "metadata": {},
   "source": [
    "# Tokenize the notebook source code"
   ]
  },
  {
   "cell_type": "code",
   "execution_count": 80,
   "id": "loved-nursing",
   "metadata": {},
   "outputs": [],
   "source": [
    "import numpy as np\n",
    "import pandas as pd\n",
    "import tokenize\n",
    "from io import BytesIO"
   ]
  },
  {
   "cell_type": "code",
   "execution_count": 3,
   "id": "rapid-avenue",
   "metadata": {},
   "outputs": [],
   "source": [
    "df = pd.read_json(\"../data/all-notebooks.json\",orient=\"index\")"
   ]
  },
  {
   "cell_type": "code",
   "execution_count": 5,
   "id": "duplicate-bookmark",
   "metadata": {},
   "outputs": [
    {
     "data": {
      "text/html": [
       "<div>\n",
       "<style scoped>\n",
       "    .dataframe tbody tr th:only-of-type {\n",
       "        vertical-align: middle;\n",
       "    }\n",
       "\n",
       "    .dataframe tbody tr th {\n",
       "        vertical-align: top;\n",
       "    }\n",
       "\n",
       "    .dataframe thead th {\n",
       "        text-align: right;\n",
       "    }\n",
       "</style>\n",
       "<table border=\"1\" class=\"dataframe\">\n",
       "  <thead>\n",
       "    <tr style=\"text-align: right;\">\n",
       "      <th></th>\n",
       "      <th>cell_type</th>\n",
       "      <th>source</th>\n",
       "      <th>filename</th>\n",
       "      <th>competition</th>\n",
       "    </tr>\n",
       "  </thead>\n",
       "  <tbody>\n",
       "    <tr>\n",
       "      <th>0</th>\n",
       "      <td>code</td>\n",
       "      <td>from subprocess import check_output\\n import n...</td>\n",
       "      <td>1806927</td>\n",
       "      <td>favorita-grocery-sales-forecasting</td>\n",
       "    </tr>\n",
       "    <tr>\n",
       "      <th>1</th>\n",
       "      <td>code</td>\n",
       "      <td>holiday = pd.read_csv('../input/holidays_event...</td>\n",
       "      <td>1806927</td>\n",
       "      <td>favorita-grocery-sales-forecasting</td>\n",
       "    </tr>\n",
       "    <tr>\n",
       "      <th>2</th>\n",
       "      <td>code</td>\n",
       "      <td># converting date into datetime format\\n holid...</td>\n",
       "      <td>1806927</td>\n",
       "      <td>favorita-grocery-sales-forecasting</td>\n",
       "    </tr>\n",
       "    <tr>\n",
       "      <th>3</th>\n",
       "      <td>code</td>\n",
       "      <td># all bridge-type has puente (puente actually ...</td>\n",
       "      <td>1806927</td>\n",
       "      <td>favorita-grocery-sales-forecasting</td>\n",
       "    </tr>\n",
       "    <tr>\n",
       "      <th>4</th>\n",
       "      <td>code</td>\n",
       "      <td># for Regional and Local holidays, \\n # name l...</td>\n",
       "      <td>1806927</td>\n",
       "      <td>favorita-grocery-sales-forecasting</td>\n",
       "    </tr>\n",
       "  </tbody>\n",
       "</table>\n",
       "</div>"
      ],
      "text/plain": [
       "  cell_type                                             source  filename  \\\n",
       "0      code  from subprocess import check_output\\n import n...   1806927   \n",
       "1      code  holiday = pd.read_csv('../input/holidays_event...   1806927   \n",
       "2      code  # converting date into datetime format\\n holid...   1806927   \n",
       "3      code  # all bridge-type has puente (puente actually ...   1806927   \n",
       "4      code  # for Regional and Local holidays, \\n # name l...   1806927   \n",
       "\n",
       "                          competition  \n",
       "0  favorita-grocery-sales-forecasting  \n",
       "1  favorita-grocery-sales-forecasting  \n",
       "2  favorita-grocery-sales-forecasting  \n",
       "3  favorita-grocery-sales-forecasting  \n",
       "4  favorita-grocery-sales-forecasting  "
      ]
     },
     "execution_count": 5,
     "metadata": {},
     "output_type": "execute_result"
    }
   ],
   "source": [
    "df.head()"
   ]
  },
  {
   "cell_type": "code",
   "execution_count": 117,
   "id": "designing-meeting",
   "metadata": {
    "tags": []
   },
   "outputs": [],
   "source": [
    "def tokenize_code(code, cell_type):\n",
    "    # if markdown or raw, split with \" \"\n",
    "    if cell_type != \"code\":\n",
    "        return []\n",
    "    \n",
    "    \n",
    "    tokenized_code = []\n",
    "    tokens = []\n",
    "    \n",
    "    try:\n",
    "        tokens = tokenize.tokenize(BytesIO(code.encode()).readline)\n",
    "    except (SyntaxError, tokenize.TokenError, IndentationError, AttributeError):\n",
    "        return []\n",
    "    try:\n",
    "#       tokens is a generator function, so we need to also catch exceptions when calling it\n",
    "        for tok in tokens:\n",
    "            ret = \"\"\n",
    "            # first token is always utf-8, ignore it\n",
    "            if (tok.string == \"utf-8\"):\n",
    "                continue\n",
    "            # type 4 is NEWLINE\n",
    "            elif (tok.type == 4 or tok.type == 61):\n",
    "                ret = \"[NEWLINE]\"\n",
    "            # type 5 is INDENT\n",
    "            elif (tok.type == 5):\n",
    "                ret = \"[INDENT]\"\n",
    "            else:\n",
    "                ret = tok.string\n",
    "    #         print(tok)\n",
    "    #         print(f\"Type: {tok.exact_type}\\nString: {tok.string}\\nStart: {tok.start}\\nEnd: {tok.end}\\nLine: {tok.line.strip()}\\n======\\n\")\n",
    "            tokenized_code.append(ret)\n",
    "        return tokenized_code\n",
    "    except (SyntaxError, tokenize.TokenError, IndentationError, AttributeError):\n",
    "        return []"
   ]
  },
  {
   "cell_type": "code",
   "execution_count": 122,
   "id": "municipal-humor",
   "metadata": {},
   "outputs": [],
   "source": [
    "subdf = df"
   ]
  },
  {
   "cell_type": "code",
   "execution_count": 123,
   "id": "contemporary-partner",
   "metadata": {
    "tags": []
   },
   "outputs": [],
   "source": [
    "subdf['tokenized_source'] = subdf.apply(lambda row: tokenize_code(row['source'], row['cell_type']), axis=1)"
   ]
  },
  {
   "cell_type": "code",
   "execution_count": 126,
   "id": "twelve-nebraska",
   "metadata": {},
   "outputs": [],
   "source": [
    "subdf.to_json(\"../data/all-notebooks-tokenized.json\", orient='index')"
   ]
  }
 ],
 "metadata": {
  "kernelspec": {
   "display_name": "Python 3",
   "language": "python",
   "name": "python3"
  },
  "language_info": {
   "codemirror_mode": {
    "name": "ipython",
    "version": 3
   },
   "file_extension": ".py",
   "mimetype": "text/x-python",
   "name": "python",
   "nbconvert_exporter": "python",
   "pygments_lexer": "ipython3",
   "version": "3.9.2"
  }
 },
 "nbformat": 4,
 "nbformat_minor": 5
}
