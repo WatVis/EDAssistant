{
 "cells": [
  {
   "cell_type": "markdown",
   "id": "filled-income",
   "metadata": {},
   "source": [
    "# Import Modules"
   ]
  },
  {
   "cell_type": "code",
   "execution_count": 1,
   "id": "smart-essence",
   "metadata": {},
   "outputs": [],
   "source": [
    "import pandas as pd\n",
    "import numpy as np\n",
    "import os\n",
    "import gensim\n",
    "from gensim.models.doc2vec import TaggedDocument\n",
    "from gensim.models.doc2vec import Doc2Vec"
   ]
  },
  {
   "cell_type": "markdown",
   "id": "three-bouquet",
   "metadata": {},
   "source": [
    "# Load the model and dataframe"
   ]
  },
  {
   "cell_type": "code",
   "execution_count": 3,
   "id": "elder-planning",
   "metadata": {},
   "outputs": [],
   "source": [
    "model = Doc2Vec.load(\"notebook-doc2vec-model-apr5.model\")\n",
    "df = pd.read_json(\"all-notebooks.json\", orient=\"index\")\n",
    "df['filename'] = df['filename'].astype(str)\n",
    "df['cell_num']=df.groupby(['filename']).cumcount()+1\n",
    "# Generate the proper naming formats\n",
    "df['filename_with_cellnum'] = df['filename'] + \"_\" + df['cell_num'].astype(str)\n",
    "df = df[df.cell_type == 'code'] # Filter only code cells"
   ]
  },
  {
   "cell_type": "markdown",
   "id": "obvious-progress",
   "metadata": {},
   "source": [
    "# Compare vector similarities"
   ]
  },
  {
   "cell_type": "code",
   "execution_count": 25,
   "id": "hairy-pursuit",
   "metadata": {},
   "outputs": [],
   "source": [
    "queryA = \"import numpy\"\n",
    "queryB = \"plt.show()\"\n",
    "queryC = \"import pandas\"\n",
    "vectorA = model.infer_vector(queryA.split(\" \"))\n",
    "vectorB = model.infer_vector(queryB.split(\" \"))\n",
    "vectorC = model.infer_vector(queryC.split(\" \"))"
   ]
  },
  {
   "cell_type": "code",
   "execution_count": 26,
   "id": "still-blind",
   "metadata": {},
   "outputs": [
    {
     "name": "stdout",
     "output_type": "stream",
     "text": [
      "0.9353717947218461\n",
      "0.43430551836616527\n"
     ]
    }
   ],
   "source": [
    "euclidean_dist1 = sum(((vectorA - vectorB)**2))\n",
    "euclidean_dist2 = sum(((vectorA - vectorC)**2))\n",
    "\n",
    "print(euclidean_dist1)\n",
    "print(euclidean_dist2)"
   ]
  },
  {
   "cell_type": "code",
   "execution_count": 28,
   "id": "sublime-interval",
   "metadata": {},
   "outputs": [
    {
     "name": "stdout",
     "output_type": "stream",
     "text": [
      "0.9941924959421158\n",
      "0.26803433895111084\n"
     ]
    }
   ],
   "source": [
    "import scipy\n",
    "\n",
    "cosine_dist1 = scipy.spatial.distance.cosine(vectorA, vectorB)\n",
    "cosine_dist2 = scipy.spatial.distance.cosine(vectorA, vectorC)\n",
    "print(cosine_dist1)\n",
    "print(cosine_dist2)"
   ]
  },
  {
   "cell_type": "markdown",
   "id": "individual-weight",
   "metadata": {},
   "source": [
    "## Old code for getting similar cells"
   ]
  },
  {
   "cell_type": "code",
   "execution_count": 29,
   "id": "genetic-marketplace",
   "metadata": {},
   "outputs": [
    {
     "name": "stdout",
     "output_type": "stream",
     "text": [
      "[('35945043_21', 0.8064147233963013), ('30346108_1', 0.8016058802604675), ('17672315_1', 0.8004535436630249), ('1462393_62', 0.7989287376403809), ('31684603_28', 0.7951673269271851), ('4645182_1', 0.7950820922851562), ('11183439_2', 0.7949899435043335), ('31407581_1', 0.7945380210876465), ('6268183_7', 0.7942268252372742), ('38889698_1', 0.7937500476837158)]\n",
      "64044    preds = model.predict(X_val)\n",
      "Name: source, dtype: object\n",
      "Series([], Name: source, dtype: object)\n",
      "Series([], Name: source, dtype: object)\n",
      "Series([], Name: source, dtype: object)\n",
      "649101    import warnings \\n warnings.filterwarnings('ig...\n",
      "Name: source, dtype: object\n",
      "Series([], Name: source, dtype: object)\n",
      "193823    import numpy as np\\n import seaborn as sns\\n i...\n",
      "Name: source, dtype: object\n",
      "642115    import pandas as pd\\n import matplotlib.pyplot...\n",
      "Name: source, dtype: object\n",
      "1084386    import numpy as np\n",
      "Name: source, dtype: object\n",
      "527799    !pip install -q efficientnet\n",
      "Name: source, dtype: object\n"
     ]
    }
   ],
   "source": [
    "query = \"import numpy as np\"\n",
    "vector = model.infer_vector(query.split(\" \"))\n",
    "\n",
    "\n",
    "sims = model.docvecs.most_similar([vector])\n",
    "# print(sims)\n",
    "print(sims)\n",
    "# Lookup top 5 similar \n",
    "# Lookup the notebook filename in the dataframe\n",
    "for result in sims[0:10]:\n",
    "#     print(result[0])\n",
    "    print(df[df.filename_with_cellnum == result[0]]['source'])"
   ]
  },
  {
   "cell_type": "markdown",
   "id": "spatial-allocation",
   "metadata": {},
   "source": [
    "`sims` prints out a list of tuples of the most similar notebooks and is of the form `sims = [(filename1, similarity1), (filename2, similarity2), ...]`\n",
    "\n",
    "We can use the filename to lookup back into the dataset and get the code. "
   ]
  }
 ],
 "metadata": {
  "kernelspec": {
   "display_name": "Python 3",
   "language": "python",
   "name": "python3"
  },
  "language_info": {
   "codemirror_mode": {
    "name": "ipython",
    "version": 3
   },
   "file_extension": ".py",
   "mimetype": "text/x-python",
   "name": "python",
   "nbconvert_exporter": "python",
   "pygments_lexer": "ipython3",
   "version": "3.9.2"
  }
 },
 "nbformat": 4,
 "nbformat_minor": 5
}
