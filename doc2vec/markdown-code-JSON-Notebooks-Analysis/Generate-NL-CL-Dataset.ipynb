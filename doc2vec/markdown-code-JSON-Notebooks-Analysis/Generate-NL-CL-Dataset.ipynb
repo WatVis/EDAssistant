{
 "cells": [
  {
   "cell_type": "code",
   "execution_count": null,
   "id": "ruled-provincial",
   "metadata": {},
   "outputs": [],
   "source": []
  },
  {
   "cell_type": "code",
   "execution_count": 25,
   "id": "nasty-penalty",
   "metadata": {},
   "outputs": [],
   "source": [
    "import pandas as pd\n",
    "import numpy as np\n",
    "from collections import Counter\n",
    "import gensim\n",
    "import matplotlib\n",
    "import matplotlib.pyplot as plt\n",
    "import json \n",
    "import glob\n",
    "import os,os.path\n",
    "import errno"
   ]
  },
  {
   "cell_type": "markdown",
   "id": "loved-float",
   "metadata": {},
   "source": [
    "# Import the Clean JSON notebooks dataset"
   ]
  },
  {
   "cell_type": "code",
   "execution_count": 2,
   "id": "functioning-democracy",
   "metadata": {
    "tags": []
   },
   "outputs": [],
   "source": [
    "df = pd.read_json(\"../data/all-notebooks.json\",orient=\"index\")"
   ]
  },
  {
   "cell_type": "markdown",
   "id": "fifty-parallel",
   "metadata": {},
   "source": [
    "# Group markdown-code pairs"
   ]
  },
  {
   "cell_type": "code",
   "execution_count": null,
   "id": "fluid-yesterday",
   "metadata": {},
   "outputs": [],
   "source": [
    "print(df.columns)"
   ]
  },
  {
   "cell_type": "code",
   "execution_count": 35,
   "id": "chicken-marketplace",
   "metadata": {},
   "outputs": [],
   "source": [
    "all_file_paths = glob.glob('../data/clean-notebooks-full-json/**/*.json',recursive=True)"
   ]
  },
  {
   "cell_type": "code",
   "execution_count": 34,
   "id": "enabling-serial",
   "metadata": {},
   "outputs": [
    {
     "name": "stdout",
     "output_type": "stream",
     "text": [
      "['../data/clean-notebooks-full-json/favorita-grocery-sales-forecasting/1806927.json', '../data/clean-notebooks-full-json/favorita-grocery-sales-forecasting/2153907.json', '../data/clean-notebooks-full-json/favorita-grocery-sales-forecasting/1707222.json', '../data/clean-notebooks-full-json/favorita-grocery-sales-forecasting/2287641.json', '../data/clean-notebooks-full-json/favorita-grocery-sales-forecasting/1803957.json', '../data/clean-notebooks-full-json/favorita-grocery-sales-forecasting/2104193.json', '../data/clean-notebooks-full-json/favorita-grocery-sales-forecasting/1998847.json', '../data/clean-notebooks-full-json/favorita-grocery-sales-forecasting/2159421.json', '../data/clean-notebooks-full-json/favorita-grocery-sales-forecasting/1805310.json', '../data/clean-notebooks-full-json/favorita-grocery-sales-forecasting/1997487.json']\n"
     ]
    }
   ],
   "source": [
    "print(all_file_paths[0:10])"
   ]
  },
  {
   "cell_type": "code",
   "execution_count": 38,
   "id": "voluntary-volume",
   "metadata": {},
   "outputs": [],
   "source": [
    "\n",
    "# Mkdir function\n",
    "# Taken from https://stackoverflow.com/a/600612/119527\n",
    "def mkdir_p(path):\n",
    "    \"\"\" \n",
    "    Creates a directory at the given path, if it does not exist\n",
    "    If the directory already exists, do nothing\n",
    "    \"\"\"\n",
    "    try:\n",
    "        os.makedirs(path)\n",
    "    except OSError as exc: # Python >2.5\n",
    "        if exc.errno == errno.EEXIST and os.path.isdir(path):\n",
    "            pass\n",
    "        else: raise\n",
    "\n",
    "# Look through each raw file in /data/notebooks-full.\n",
    "for file_path in all_file_paths:\n",
    "    \n",
    "    temp = pd.read_json(file_path)\n",
    "    \n",
    "    # create a new dataframe for each notebook\n",
    "    df_pairs = pd.DataFrame(columns=['code', 'markdown', 'cellNum'])\n",
    "\n",
    "    \n",
    "    isMarkdownFlag = False\n",
    "    markdowns = [] # list of markdown for each code-markdown pair\n",
    "    \n",
    "    # initialize newRow\n",
    "    for row in temp.iterrows():\n",
    "        index = row[0]\n",
    "        rowData = row[1]\n",
    "        newRow = ['', [], 0]\n",
    "\n",
    "        \n",
    "        \n",
    "#         if previous cell was markdown, keep appending to markdown\n",
    "        if (rowData['cell_type'] =='markdown'):\n",
    "\n",
    "            if isMarkdownFlag == True:\n",
    "                \n",
    "                markdowns.append(rowData['source'])\n",
    "            \n",
    "            # else start a new row\n",
    "            else:\n",
    "                markdowns = [rowData['source']]\n",
    "            isMarkdownFlag = True\n",
    "\n",
    "                \n",
    "                \n",
    "            \n",
    "        # else code or raw\n",
    "        else:\n",
    "            newRow[0] = rowData['source']  # set code\n",
    "            newRow[1] = markdowns  # set code\n",
    "            isMarkdownFlag = False\n",
    "            # set the ending index\n",
    "            newRow[2] = index\n",
    "            df_pairs.loc[len(df_pairs)] = newRow\n",
    "            newRow = ['', [], index]\n",
    "\n",
    "        \n",
    "    \n",
    "    \n",
    "    # create dir if not existing\n",
    "    # creates the directory clean-notebooks-full-json/[competitionname]\n",
    "    newFilePath = '../data/clean-paired-' + file_path\n",
    "    dirName = '../data/clean-paired-' + os.path.dirname(file_path)\n",
    "    mkdir_p(dirName)\n",
    "    df_pairs.to_json(newFilePath, orient='index')"
   ]
  }
 ],
 "metadata": {
  "kernelspec": {
   "display_name": "Python 3",
   "language": "python",
   "name": "python3"
  },
  "language_info": {
   "codemirror_mode": {
    "name": "ipython",
    "version": 3
   },
   "file_extension": ".py",
   "mimetype": "text/x-python",
   "name": "python",
   "nbconvert_exporter": "python",
   "pygments_lexer": "ipython3",
   "version": "3.9.2"
  }
 },
 "nbformat": 4,
 "nbformat_minor": 5
}
