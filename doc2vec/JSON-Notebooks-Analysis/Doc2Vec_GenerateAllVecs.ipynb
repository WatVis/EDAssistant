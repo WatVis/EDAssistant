{
 "cells": [
  {
   "cell_type": "markdown",
   "id": "allied-hamburg",
   "metadata": {},
   "source": [
    "# Convert the Dataset into Vectors"
   ]
  },
  {
   "cell_type": "markdown",
   "id": "classified-modeling",
   "metadata": {},
   "source": [
    "The goal of this notebook is to generate a vector for each cell for all notebooks in the sliced-notebooks dataset."
   ]
  },
  {
   "cell_type": "markdown",
   "id": "entertaining-canon",
   "metadata": {},
   "source": [
    "Dimensions of vector array: n * sequence count * 300"
   ]
  },
  {
   "cell_type": "markdown",
   "id": "finnish-cuisine",
   "metadata": {},
   "source": [
    "# Import modules"
   ]
  },
  {
   "cell_type": "code",
   "execution_count": 4,
   "id": "neutral-rhythm",
   "metadata": {},
   "outputs": [],
   "source": [
    "import pandas as pd\n",
    "import numpy as np\n",
    "import os\n",
    "import gensim\n",
    "from gensim.models.doc2vec import TaggedDocument\n",
    "from gensim.models.doc2vec import Doc2Vec\n",
    "import torch"
   ]
  },
  {
   "cell_type": "markdown",
   "id": "english-organ",
   "metadata": {},
   "source": [
    "# Import dataset and doc2vec model"
   ]
  },
  {
   "cell_type": "code",
   "execution_count": 5,
   "id": "optional-packet",
   "metadata": {},
   "outputs": [],
   "source": [
    "df = pd.read_json(\"../data/all-notebooks.json\", orient='index')\n",
    "model = Doc2Vec.load(\"../model/notebook-doc2vec-model-mar24.model\")"
   ]
  },
  {
   "cell_type": "code",
   "execution_count": 6,
   "id": "center-heavy",
   "metadata": {},
   "outputs": [
    {
     "data": {
      "text/html": [
       "<div>\n",
       "<style scoped>\n",
       "    .dataframe tbody tr th:only-of-type {\n",
       "        vertical-align: middle;\n",
       "    }\n",
       "\n",
       "    .dataframe tbody tr th {\n",
       "        vertical-align: top;\n",
       "    }\n",
       "\n",
       "    .dataframe thead th {\n",
       "        text-align: right;\n",
       "    }\n",
       "</style>\n",
       "<table border=\"1\" class=\"dataframe\">\n",
       "  <thead>\n",
       "    <tr style=\"text-align: right;\">\n",
       "      <th></th>\n",
       "      <th>cell_type</th>\n",
       "      <th>source</th>\n",
       "      <th>filename</th>\n",
       "      <th>competition</th>\n",
       "    </tr>\n",
       "  </thead>\n",
       "  <tbody>\n",
       "    <tr>\n",
       "      <th>0</th>\n",
       "      <td>code</td>\n",
       "      <td>from subprocess import check_output\\n import n...</td>\n",
       "      <td>1806927</td>\n",
       "      <td>favorita-grocery-sales-forecasting</td>\n",
       "    </tr>\n",
       "    <tr>\n",
       "      <th>1</th>\n",
       "      <td>code</td>\n",
       "      <td>holiday = pd.read_csv('../input/holidays_event...</td>\n",
       "      <td>1806927</td>\n",
       "      <td>favorita-grocery-sales-forecasting</td>\n",
       "    </tr>\n",
       "    <tr>\n",
       "      <th>2</th>\n",
       "      <td>code</td>\n",
       "      <td># converting date into datetime format\\n holid...</td>\n",
       "      <td>1806927</td>\n",
       "      <td>favorita-grocery-sales-forecasting</td>\n",
       "    </tr>\n",
       "    <tr>\n",
       "      <th>3</th>\n",
       "      <td>code</td>\n",
       "      <td># all bridge-type has puente (puente actually ...</td>\n",
       "      <td>1806927</td>\n",
       "      <td>favorita-grocery-sales-forecasting</td>\n",
       "    </tr>\n",
       "  </tbody>\n",
       "</table>\n",
       "</div>"
      ],
      "text/plain": [
       "  cell_type                                             source  filename  \\\n",
       "0      code  from subprocess import check_output\\n import n...   1806927   \n",
       "1      code  holiday = pd.read_csv('../input/holidays_event...   1806927   \n",
       "2      code  # converting date into datetime format\\n holid...   1806927   \n",
       "3      code  # all bridge-type has puente (puente actually ...   1806927   \n",
       "\n",
       "                          competition  \n",
       "0  favorita-grocery-sales-forecasting  \n",
       "1  favorita-grocery-sales-forecasting  \n",
       "2  favorita-grocery-sales-forecasting  \n",
       "3  favorita-grocery-sales-forecasting  "
      ]
     },
     "execution_count": 6,
     "metadata": {},
     "output_type": "execute_result"
    }
   ],
   "source": [
    "df.head(4)"
   ]
  },
  {
   "cell_type": "markdown",
   "id": "processed-professional",
   "metadata": {},
   "source": [
    "# Group the dataset by notebook and generate doc2vec vectors"
   ]
  },
  {
   "cell_type": "code",
   "execution_count": 9,
   "id": "funky-genius",
   "metadata": {},
   "outputs": [],
   "source": [
    "df_test = df"
   ]
  },
  {
   "cell_type": "code",
   "execution_count": 11,
   "id": "acquired-screen",
   "metadata": {},
   "outputs": [],
   "source": [
    "allVectors = []\n",
    "allVectorsFilenames = []\n",
    "for i, notebook in df_test.groupby(\"filename\"):\n",
    "    \n",
    "    vectorSeq = []\n",
    "    # vectorSeq is a list of doc2vec vectors corresponding to [Cell0, Cell1, .... Celln]\n",
    "    # each vectorSeq list corresponds to a single notebook\n",
    "    for j, row in notebook.iterrows():\n",
    "        source = row[1]\n",
    "        vector = model.infer_vector(source.split(\" \"))\n",
    "        vectorSeq.append(vector)\n",
    "    allVectors.append(vectorSeq)\n",
    "    allVectorsFilenames.append(notebook.iloc[0]['filename'])"
   ]
  },
  {
   "cell_type": "code",
   "execution_count": 51,
   "id": "elect-hypothesis",
   "metadata": {},
   "outputs": [
    {
     "name": "stdout",
     "output_type": "stream",
     "text": [
      "26430\n"
     ]
    }
   ],
   "source": [
    "print(len(allVectors))"
   ]
  },
  {
   "cell_type": "markdown",
   "id": "living-bulgarian",
   "metadata": {},
   "source": [
    "# Save the arrays"
   ]
  },
  {
   "cell_type": "code",
   "execution_count": 12,
   "id": "statewide-lightning",
   "metadata": {},
   "outputs": [],
   "source": [
    "arr = np.array(allVectors,dtype=object)\n",
    "arrNames = np.array(allVectorsFilenames)"
   ]
  },
  {
   "cell_type": "code",
   "execution_count": 14,
   "id": "editorial-copper",
   "metadata": {},
   "outputs": [
    {
     "data": {
      "text/plain": [
       "(38180,)"
      ]
     },
     "execution_count": 14,
     "metadata": {},
     "output_type": "execute_result"
    }
   ],
   "source": [
    "arr.shape"
   ]
  },
  {
   "cell_type": "code",
   "execution_count": 13,
   "id": "negative-addiction",
   "metadata": {},
   "outputs": [],
   "source": [
    "np.save(\"../data/notebooks-sliced-doc2vec-vectors.npy\", arr)\n",
    "np.save(\"../data/notebooks-sliced-doc2vec-vectors-filenames.npy\", arrNames)"
   ]
  },
  {
   "cell_type": "code",
   "execution_count": null,
   "id": "relative-consumption",
   "metadata": {},
   "outputs": [],
   "source": []
  }
 ],
 "metadata": {
  "kernelspec": {
   "display_name": "Python 3",
   "language": "python",
   "name": "python3"
  },
  "language_info": {
   "codemirror_mode": {
    "name": "ipython",
    "version": 3
   },
   "file_extension": ".py",
   "mimetype": "text/x-python",
   "name": "python",
   "nbconvert_exporter": "python",
   "pygments_lexer": "ipython3",
   "version": "3.9.2"
  }
 },
 "nbformat": 4,
 "nbformat_minor": 5
}
