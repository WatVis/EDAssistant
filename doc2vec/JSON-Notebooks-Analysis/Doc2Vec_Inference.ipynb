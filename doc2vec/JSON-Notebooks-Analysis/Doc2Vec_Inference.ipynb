{
 "cells": [
  {
   "cell_type": "markdown",
   "id": "soviet-netherlands",
   "metadata": {},
   "source": [
    "# Import Modules"
   ]
  },
  {
   "cell_type": "code",
   "execution_count": 1,
   "id": "bearing-dominant",
   "metadata": {},
   "outputs": [],
   "source": [
    "import pandas as pd\n",
    "import numpy as np\n",
    "import os\n",
    "import gensim\n",
    "from gensim.models.doc2vec import TaggedDocument\n",
    "from gensim.models.doc2vec import Doc2Vec"
   ]
  },
  {
   "cell_type": "markdown",
   "id": "christian-wales",
   "metadata": {},
   "source": [
    "# Load the model and dataframe"
   ]
  },
  {
   "cell_type": "code",
   "execution_count": 4,
   "id": "corrected-gothic",
   "metadata": {},
   "outputs": [],
   "source": [
    "model = Doc2Vec.load(\"model/notebook-doc2vec-model.model\")\n",
    "df = pd.read_json(\"data/all-notebooks.json\", orient=\"index\")\n",
    "df['filename'] = df['filename'].astype(str)"
   ]
  },
  {
   "cell_type": "markdown",
   "id": "fitted-stream",
   "metadata": {},
   "source": [
    "# Perform inference"
   ]
  },
  {
   "cell_type": "code",
   "execution_count": 5,
   "id": "ignored-session",
   "metadata": {},
   "outputs": [
    {
     "name": "stdout",
     "output_type": "stream",
     "text": [
      "387339    # cdiscount-image-classification-challenge\\n \\...\n",
      "387340                                   import numpy as np\n",
      "Name: source, dtype: object\n",
      "96876    import numpy\n",
      "96877                \n",
      "Name: source, dtype: object\n",
      "66419    # This Python 3 environment comes with many he...\n",
      "66420                                   import numpy \\n \\n\n",
      "Name: source, dtype: object\n",
      "947002    import numpy as np\n",
      "947003                      \n",
      "Name: source, dtype: object\n"
     ]
    }
   ],
   "source": [
    "query = \"import numpy as np\"\n",
    "vector = model.infer_vector(query.split(\" \"))\n",
    "\n",
    "\n",
    "sims = model.docvecs.most_similar([vector])\n",
    "# print(sims)\n",
    "\n",
    "# Lookup top 5 similar \n",
    "# Lookup the notebook filename in the dataframe\n",
    "for result in sims[0:4]:\n",
    "    print(df[df.filename == result[0]]['source'])"
   ]
  },
  {
   "cell_type": "markdown",
   "id": "arctic-share",
   "metadata": {},
   "source": [
    "`sims` prints out a list of tuples of the most similar notebooks and is of the form `sims = [(filename1, similarity1), (filename2, similarity2), ...]`\n",
    "\n",
    "We can use the filename to lookup back into the dataset and get the code. "
   ]
  }
 ],
 "metadata": {
  "kernelspec": {
   "display_name": "Python 3",
   "language": "python",
   "name": "python3"
  },
  "language_info": {
   "codemirror_mode": {
    "name": "ipython",
    "version": 3
   },
   "file_extension": ".py",
   "mimetype": "text/x-python",
   "name": "python",
   "nbconvert_exporter": "python",
   "pygments_lexer": "ipython3",
   "version": "3.9.2"
  }
 },
 "nbformat": 4,
 "nbformat_minor": 5
}
