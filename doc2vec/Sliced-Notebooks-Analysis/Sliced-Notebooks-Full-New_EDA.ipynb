{
 "cells": [
  {
   "cell_type": "code",
   "execution_count": 1,
   "id": "fiscal-greenhouse",
   "metadata": {},
   "outputs": [],
   "source": [
    "import pandas as pd\n",
    "import numpy as np\n",
    "from collections import Counter\n",
    "import gensim\n",
    "import matplotlib\n",
    "import matplotlib.pyplot as plt\n",
    "import json "
   ]
  },
  {
   "cell_type": "markdown",
   "id": "sticky-madagascar",
   "metadata": {},
   "source": [
    "# Import the Clean JSON notebooks dataset"
   ]
  },
  {
   "cell_type": "code",
   "execution_count": 2,
   "id": "ranging-gardening",
   "metadata": {
    "tags": []
   },
   "outputs": [],
   "source": [
    "df = pd.read_json(\"../data/all-notebooks.json\",orient=\"index\")"
   ]
  },
  {
   "cell_type": "markdown",
   "id": "former-greece",
   "metadata": {},
   "source": [
    "# Group markdown-code pairs"
   ]
  },
  {
   "cell_type": "code",
   "execution_count": null,
   "id": "organized-shoulder",
   "metadata": {},
   "outputs": [],
   "source": [
    "print(df.columns)"
   ]
  },
  {
   "cell_type": "code",
   "execution_count": 3,
   "id": "viral-sodium",
   "metadata": {},
   "outputs": [
    {
     "data": {
      "text/plain": [
       "count     38180\n",
       "unique       57\n",
       "top           0\n",
       "freq      24867\n",
       "Name: h1, dtype: int64"
      ]
     },
     "execution_count": 3,
     "metadata": {},
     "output_type": "execute_result"
    }
   ],
   "source": [
    "df_new = pd.DataFrame(columns=['h1','h2','h3','h4','h5','h6','total'])\n",
    "\n",
    "df_pairs = pd.DataFrame(columns=['markdown', 'code', 'filename', 'competition'])\n",
    "\n",
    "df_test = df\n",
    "df_test = df_test.groupby('filename')\n",
    "for i, group in df_test:\n",
    "    temp = group\n",
    "    temp = temp[temp['cell_type'] == 'markdown']\n",
    "    lists = list(temp['source'].str.split(\" \"))\n",
    "    headerCounts = [0,0,0,0,0,0,0]\n",
    "\n",
    "    rowCount = len(lists)\n",
    "    \n",
    "\n",
    "    for li in lists:\n",
    "#         print(rowCount)\n",
    "        headerCounts[0] += li.count('#')\n",
    "        headerCounts[1] += li.count('##')\n",
    "        headerCounts[2] += li.count('###')\n",
    "        headerCounts[3] += li.count('####')\n",
    "        headerCounts[4] += li.count('#####')\n",
    "        headerCounts[5] += li.count('######')\n",
    "        headerCounts[6] += rowCount\n",
    "    if headerCounts[6]  != 0:\n",
    "        temp = headerCounts[6]\n",
    "#         headerCounts = [x/headerCounts[6] for x in headerCounts]\n",
    "        headerCounts[6] = temp\n",
    "        \n",
    "    df_new.loc[i] = headerCounts\n",
    "#     print(headerCounts)\n",
    "df_new['h1'].describe()\n",
    "\n",
    "    "
   ]
  },
  {
   "cell_type": "code",
   "execution_count": null,
   "id": "colonial-nightmare",
   "metadata": {},
   "outputs": [],
   "source": [
    "['##'].count('##')"
   ]
  },
  {
   "cell_type": "markdown",
   "id": "fatty-beaver",
   "metadata": {},
   "source": [
    "# Only 1/3 of all notebooks contain at least 1 H1"
   ]
  },
  {
   "cell_type": "code",
   "execution_count": null,
   "id": "straight-healing",
   "metadata": {},
   "outputs": [],
   "source": [
    "ax = df_new['h1'].hist(bins=100)\n",
    "ax.set_xlim([0,10])\n",
    "df_new['h4'].astype(int).describe()\n",
    "print(\"% of notebooks with >=1 H1\", len(df_new[df_new['h1'] >= 1])/len(df_new))"
   ]
  },
  {
   "cell_type": "markdown",
   "id": "sexual-carnival",
   "metadata": {},
   "source": [
    "# Generate the dataframe"
   ]
  },
  {
   "cell_type": "code",
   "execution_count": null,
   "id": "atlantic-density",
   "metadata": {},
   "outputs": [],
   "source": [
    "\n",
    "df_new = pd.DataFrame(columns=['h1','h2','h3','h4','h5','h6','total'])\n",
    "\n",
    "df_pairs = pd.DataFrame(columns=['markdown', 'code', 'filename', 'competition'])\n",
    "\n",
    "df_test = df\n",
    "df_test = df_test.groupby('filename')\n",
    "\n",
    "# Group by notebooks\n",
    "# Each group is a notebook\n",
    "\n",
    "\n",
    "for i, notebook in df_test:\n",
    "\n",
    "    temp = notebook\n",
    "        \n",
    "    # Get a list of all source code\n",
    "\n",
    "    rowCount = len(cells)\n",
    "    \n",
    "    markdowns = []\n",
    "    \n",
    "    #       markdown code filename competition\n",
    "    newRow = [[],[],temp['filename'],temp['competition']]\n",
    "    for li in temp.iterrows():\n",
    "        row = li[1]\n",
    "        newRow[2] = temp['filename']\n",
    "\n",
    "        if row['cell_type'] == 'code':\n",
    "            newRow[1] = row['source']\n",
    "            df_pairs.loc[len(df_pairs)] = newRow\n",
    "\n",
    "            newRow = [[],[],temp['filename'],temp['competition']]\n",
    "            \n",
    "        elif row['cell_type'] == 'markdown':\n",
    "            newRow[0].append(row['source'])\n",
    "\n",
    "            \n",
    "            \n",
    "#     print(df_pairs)"
   ]
  },
  {
   "cell_type": "code",
   "execution_count": null,
   "id": "unnecessary-modern",
   "metadata": {},
   "outputs": [],
   "source": [
    "df_pairs.to_csv(\"../data/all-notebooks-pairs-naive.csv\")"
   ]
  }
 ],
 "metadata": {
  "kernelspec": {
   "display_name": "Python 3",
   "language": "python",
   "name": "python3"
  },
  "language_info": {
   "codemirror_mode": {
    "name": "ipython",
    "version": 3
   },
   "file_extension": ".py",
   "mimetype": "text/x-python",
   "name": "python",
   "nbconvert_exporter": "python",
   "pygments_lexer": "ipython3",
   "version": "3.9.2"
  }
 },
 "nbformat": 4,
 "nbformat_minor": 5
}
