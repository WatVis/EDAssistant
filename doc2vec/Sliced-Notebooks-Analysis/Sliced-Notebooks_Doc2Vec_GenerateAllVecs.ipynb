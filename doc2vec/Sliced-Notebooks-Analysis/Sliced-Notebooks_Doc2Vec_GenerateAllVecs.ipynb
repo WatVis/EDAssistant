{
 "cells": [
  {
   "cell_type": "markdown",
   "id": "eleven-macintosh",
   "metadata": {},
   "source": [
    "# Convert the Dataset into Vectors"
   ]
  },
  {
   "cell_type": "markdown",
   "id": "complimentary-history",
   "metadata": {},
   "source": [
    "The goal of this notebook is to generate a vector for each cell for all notebooks in the sliced-notebooks dataset."
   ]
  },
  {
   "cell_type": "markdown",
   "id": "vital-minutes",
   "metadata": {},
   "source": [
    "Dimensions of vector array: n * sequence count * 300"
   ]
  },
  {
   "cell_type": "markdown",
   "id": "saved-longer",
   "metadata": {},
   "source": [
    "# Import modules"
   ]
  },
  {
   "cell_type": "code",
   "execution_count": 50,
   "id": "running-booking",
   "metadata": {},
   "outputs": [],
   "source": [
    "import pandas as pd\n",
    "import numpy as np\n",
    "import os\n",
    "import gensim\n",
    "from gensim.models.doc2vec import TaggedDocument\n",
    "from gensim.models.doc2vec import Doc2Vec\n",
    "import torch"
   ]
  },
  {
   "cell_type": "markdown",
   "id": "sound-prior",
   "metadata": {},
   "source": [
    "# Import dataset and doc2vec model"
   ]
  },
  {
   "cell_type": "code",
   "execution_count": 6,
   "id": "periodic-least",
   "metadata": {},
   "outputs": [],
   "source": [
    "df = pd.read_csv(\"../data/all-notebooks-sliced.csv\")\n",
    "model = Doc2Vec.load(\"../model/notebook-doc2vec-model.model\")"
   ]
  },
  {
   "cell_type": "code",
   "execution_count": 13,
   "id": "previous-finance",
   "metadata": {},
   "outputs": [
    {
     "data": {
      "text/html": [
       "<div>\n",
       "<style scoped>\n",
       "    .dataframe tbody tr th:only-of-type {\n",
       "        vertical-align: middle;\n",
       "    }\n",
       "\n",
       "    .dataframe tbody tr th {\n",
       "        vertical-align: top;\n",
       "    }\n",
       "\n",
       "    .dataframe thead th {\n",
       "        text-align: right;\n",
       "    }\n",
       "</style>\n",
       "<table border=\"1\" class=\"dataframe\">\n",
       "  <thead>\n",
       "    <tr style=\"text-align: right;\">\n",
       "      <th></th>\n",
       "      <th>Unnamed: 0</th>\n",
       "      <th>source</th>\n",
       "      <th>filename</th>\n",
       "      <th>competition</th>\n",
       "      <th>name</th>\n",
       "      <th>cell</th>\n",
       "    </tr>\n",
       "  </thead>\n",
       "  <tbody>\n",
       "    <tr>\n",
       "      <th>0</th>\n",
       "      <td>208581</td>\n",
       "      <td>import pandas as pd\\nfrom numpy import double\\...</td>\n",
       "      <td>85969_0</td>\n",
       "      <td>rossmann-store-sales</td>\n",
       "      <td>85969</td>\n",
       "      <td>0</td>\n",
       "    </tr>\n",
       "    <tr>\n",
       "      <th>1</th>\n",
       "      <td>208129</td>\n",
       "      <td>import pandas as pd\\nfrom numpy import double\\...</td>\n",
       "      <td>85969_1</td>\n",
       "      <td>rossmann-store-sales</td>\n",
       "      <td>85969</td>\n",
       "      <td>1</td>\n",
       "    </tr>\n",
       "    <tr>\n",
       "      <th>2</th>\n",
       "      <td>209018</td>\n",
       "      <td>import pandas as pd\\nfrom numpy import double\\...</td>\n",
       "      <td>85969_2</td>\n",
       "      <td>rossmann-store-sales</td>\n",
       "      <td>85969</td>\n",
       "      <td>2</td>\n",
       "    </tr>\n",
       "    <tr>\n",
       "      <th>3</th>\n",
       "      <td>208697</td>\n",
       "      <td>import pandas as pd\\nfrom numpy import double\\...</td>\n",
       "      <td>85969_3</td>\n",
       "      <td>rossmann-store-sales</td>\n",
       "      <td>85969</td>\n",
       "      <td>3</td>\n",
       "    </tr>\n",
       "  </tbody>\n",
       "</table>\n",
       "</div>"
      ],
      "text/plain": [
       "   Unnamed: 0                                             source filename  \\\n",
       "0      208581  import pandas as pd\\nfrom numpy import double\\...  85969_0   \n",
       "1      208129  import pandas as pd\\nfrom numpy import double\\...  85969_1   \n",
       "2      209018  import pandas as pd\\nfrom numpy import double\\...  85969_2   \n",
       "3      208697  import pandas as pd\\nfrom numpy import double\\...  85969_3   \n",
       "\n",
       "            competition   name  cell  \n",
       "0  rossmann-store-sales  85969     0  \n",
       "1  rossmann-store-sales  85969     1  \n",
       "2  rossmann-store-sales  85969     2  \n",
       "3  rossmann-store-sales  85969     3  "
      ]
     },
     "execution_count": 13,
     "metadata": {},
     "output_type": "execute_result"
    }
   ],
   "source": [
    "df.head(4)"
   ]
  },
  {
   "cell_type": "markdown",
   "id": "treated-bacteria",
   "metadata": {},
   "source": [
    "# Group the dataset by notebook and generate doc2vec vectors"
   ]
  },
  {
   "cell_type": "code",
   "execution_count": 69,
   "id": "third-outline",
   "metadata": {},
   "outputs": [],
   "source": [
    "df_test = df"
   ]
  },
  {
   "cell_type": "code",
   "execution_count": 70,
   "id": "loaded-indianapolis",
   "metadata": {},
   "outputs": [],
   "source": [
    "allVectors = []\n",
    "allVectorsFilenames = []\n",
    "for i, notebook in df_test.groupby(\"name\"):\n",
    "    \n",
    "    vectorSeq = []\n",
    "    # vectorSeq is a list of doc2vec vectors corresponding to [Cell0, Cell1, .... Celln]\n",
    "    # each vectorSeq list corresponds to a single notebook\n",
    "    for j, row in notebook.iterrows():\n",
    "        source = row[1]\n",
    "        vector = model.infer_vector(query.split(\" \"))\n",
    "        vectorSeq.append(vector)\n",
    "    allVectors.append(vectorSeq)\n",
    "    allVectorsFilenames.append(notebook.iloc[0]['name'])\n",
    "        "
   ]
  },
  {
   "cell_type": "code",
   "execution_count": 51,
   "id": "recorded-education",
   "metadata": {},
   "outputs": [
    {
     "name": "stdout",
     "output_type": "stream",
     "text": [
      "26430\n"
     ]
    }
   ],
   "source": [
    "print(len(allVectors))"
   ]
  },
  {
   "cell_type": "markdown",
   "id": "amazing-concert",
   "metadata": {},
   "source": [
    "# Save the arrays"
   ]
  },
  {
   "cell_type": "code",
   "execution_count": 73,
   "id": "shaped-worker",
   "metadata": {},
   "outputs": [],
   "source": [
    "arr = np.array(allVectors,dtype=object)\n",
    "arrNames = np.array(allVectorsFilenames)"
   ]
  },
  {
   "cell_type": "code",
   "execution_count": 74,
   "id": "meaning-poverty",
   "metadata": {},
   "outputs": [],
   "source": [
    "np.save(\"../data/notebooks-sliced-doc2vec-vectors.npy\", arr)\n",
    "np.save(\"../data/notebooks-sliced-doc2vec-vectors-filenames.npy\", arrNames)"
   ]
  },
  {
   "cell_type": "code",
   "execution_count": null,
   "id": "living-fleece",
   "metadata": {},
   "outputs": [],
   "source": []
  }
 ],
 "metadata": {
  "kernelspec": {
   "display_name": "Python 3",
   "language": "python",
   "name": "python3"
  },
  "language_info": {
   "codemirror_mode": {
    "name": "ipython",
    "version": 3
   },
   "file_extension": ".py",
   "mimetype": "text/x-python",
   "name": "python",
   "nbconvert_exporter": "python",
   "pygments_lexer": "ipython3",
   "version": "3.9.2"
  }
 },
 "nbformat": 4,
 "nbformat_minor": 5
}
