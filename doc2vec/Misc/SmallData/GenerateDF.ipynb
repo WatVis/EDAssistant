{
 "cells": [
  {
   "cell_type": "code",
   "execution_count": 1,
   "id": "induced-interface",
   "metadata": {},
   "outputs": [],
   "source": [
    "import pandas as pd\n",
    "import numpy as np\n",
    "import os\n",
    "import gensim\n",
    "from gensim.models.doc2vec import TaggedDocument\n",
    "import random"
   ]
  },
  {
   "cell_type": "code",
   "execution_count": 2,
   "id": "invisible-crazy",
   "metadata": {},
   "outputs": [],
   "source": [
    "df = pd.read_json(\"../data/all-notebooks.json\", orient=\"index\")"
   ]
  },
  {
   "cell_type": "code",
   "execution_count": 3,
   "id": "german-monthly",
   "metadata": {},
   "outputs": [],
   "source": [
    "grouped = df.groupby('filename')\n",
    "\n",
    "sampled_df_i = random.sample(list(grouped.indices), 1000)"
   ]
  },
  {
   "cell_type": "code",
   "execution_count": 4,
   "id": "coordinate-rebecca",
   "metadata": {},
   "outputs": [
    {
     "name": "stderr",
     "output_type": "stream",
     "text": [
      "<ipython-input-4-4ecd1ccea005>:2: SettingWithCopyWarning: \n",
      "A value is trying to be set on a copy of a slice from a DataFrame.\n",
      "Try using .loc[row_indexer,col_indexer] = value instead\n",
      "\n",
      "See the caveats in the documentation: https://pandas.pydata.org/pandas-docs/stable/user_guide/indexing.html#returning-a-view-versus-a-copy\n",
      "  df['cell_num']=df.groupby(['filename']).cumcount()+1\n",
      "<ipython-input-4-4ecd1ccea005>:3: SettingWithCopyWarning: \n",
      "A value is trying to be set on a copy of a slice from a DataFrame.\n",
      "Try using .loc[row_indexer,col_indexer] = value instead\n",
      "\n",
      "See the caveats in the documentation: https://pandas.pydata.org/pandas-docs/stable/user_guide/indexing.html#returning-a-view-versus-a-copy\n",
      "  df['filename'] = df['filename'].astype(str)\n",
      "<ipython-input-4-4ecd1ccea005>:4: SettingWithCopyWarning: \n",
      "A value is trying to be set on a copy of a slice from a DataFrame.\n",
      "Try using .loc[row_indexer,col_indexer] = value instead\n",
      "\n",
      "See the caveats in the documentation: https://pandas.pydata.org/pandas-docs/stable/user_guide/indexing.html#returning-a-view-versus-a-copy\n",
      "  df['filename_with_cellnum'] = df['filename'] + \"_\" + df['cell_num'].astype(str)\n"
     ]
    }
   ],
   "source": [
    "df = df[df['filename'].isin(sampled_df_i)]\n",
    "df['cell_num']=df.groupby(['filename']).cumcount()+1\n",
    "df['filename'] = df['filename'].astype(str)\n",
    "df['filename_with_cellnum'] = df['filename'] + \"_\" + df['cell_num'].astype(str)"
   ]
  },
  {
   "cell_type": "code",
   "execution_count": 5,
   "id": "swedish-stationery",
   "metadata": {},
   "outputs": [
    {
     "data": {
      "text/plain": [
       "cell_type                                                             code\n",
       "source                   # Label encoding categorical features\\n \\n enc...\n",
       "filename                                                          41409370\n",
       "competition                             donorschoose-application-screening\n",
       "cell_num                                                                15\n",
       "filename_with_cellnum                                          41409370_15\n",
       "Name: 5460, dtype: object"
      ]
     },
     "execution_count": 5,
     "metadata": {},
     "output_type": "execute_result"
    }
   ],
   "source": [
    "df.iloc[20]"
   ]
  },
  {
   "cell_type": "markdown",
   "id": "streaming-beaver",
   "metadata": {},
   "source": [
    "## Limit to 300 characters"
   ]
  },
  {
   "cell_type": "code",
   "execution_count": 6,
   "id": "weighted-blink",
   "metadata": {},
   "outputs": [
    {
     "name": "stderr",
     "output_type": "stream",
     "text": [
      "<ipython-input-6-1e94fb61dabd>:1: SettingWithCopyWarning: \n",
      "A value is trying to be set on a copy of a slice from a DataFrame.\n",
      "Try using .loc[row_indexer,col_indexer] = value instead\n",
      "\n",
      "See the caveats in the documentation: https://pandas.pydata.org/pandas-docs/stable/user_guide/indexing.html#returning-a-view-versus-a-copy\n",
      "  df['source'] = df['source'].str[:300]\n"
     ]
    }
   ],
   "source": [
    "df['source'] = df['source'].str[:300]\n"
   ]
  },
  {
   "cell_type": "code",
   "execution_count": 7,
   "id": "distant-saskatchewan",
   "metadata": {},
   "outputs": [],
   "source": [
    "df.to_csv(\"../data/smalldf-1000notebooks.csv\")"
   ]
  },
  {
   "cell_type": "code",
   "execution_count": 43,
   "id": "baking-collectible",
   "metadata": {},
   "outputs": [],
   "source": [
    "df_filenames = pd.DataFrame(sampled_df_i, columns=[\"filename\"])\n",
    "df_filenames.to_csv(\"../data/smalldf_filenames.csv\")"
   ]
  }
 ],
 "metadata": {
  "kernelspec": {
   "display_name": "Python 3",
   "language": "python",
   "name": "python3"
  },
  "language_info": {
   "codemirror_mode": {
    "name": "ipython",
    "version": 3
   },
   "file_extension": ".py",
   "mimetype": "text/x-python",
   "name": "python",
   "nbconvert_exporter": "python",
   "pygments_lexer": "ipython3",
   "version": "3.9.2"
  }
 },
 "nbformat": 4,
 "nbformat_minor": 5
}
